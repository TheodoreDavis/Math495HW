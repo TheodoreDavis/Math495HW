{
 "cells": [
  {
   "cell_type": "markdown",
   "metadata": {},
   "source": [
    "**HW3_Solutions_Theodore_Davis**"
   ]
  },
  {
   "cell_type": "markdown",
   "metadata": {},
   "source": [
    "**Problem 1.**"
   ]
  },
  {
   "cell_type": "code",
   "execution_count": 1,
   "metadata": {},
   "outputs": [
    {
     "name": "stdout",
     "output_type": "stream",
     "text": [
      "[[-10.         -10.        ]\n",
      " [ -9.93730408 -10.        ]\n",
      " [ -9.87460815 -10.        ]\n",
      " [ -9.81191223 -10.        ]\n",
      " [ -9.7492163  -10.        ]]\n",
      "[[ 9.7492163  10.        ]\n",
      " [ 9.81191223 10.        ]\n",
      " [ 9.87460815 10.        ]\n",
      " [ 9.93730408 10.        ]\n",
      " [10.         10.        ]]\n"
     ]
    }
   ],
   "source": [
    "import pandas as pd\n",
    "import numpy as np\n",
    "\n",
    "A = np.linspace(-10,10,320)\n",
    "cartProduct = np.transpose([np.tile(A, len(A)), np.repeat(A, len(A))])\n",
    "print(cartProduct[:5])\n",
    "print(cartProduct[-5:])"
   ]
  },
  {
   "cell_type": "markdown",
   "metadata": {},
   "source": [
    "**Problem 2.**"
   ]
  },
  {
   "cell_type": "code",
   "execution_count": 2,
   "metadata": {},
   "outputs": [
    {
     "name": "stdout",
     "output_type": "stream",
     "text": [
      "[-3.89817183e-17 -6.26843318e-03 -1.23725263e-02 -1.80731246e-02\n",
      " -2.31436608e-02 -2.73790776e-02 -3.06040334e-02 -3.26800662e-02\n",
      " -3.35114266e-02 -3.30493385e-02 -3.12945029e-02 -2.82977264e-02\n",
      " -2.41586245e-02 -1.90224259e-02 -1.30749743e-02 -6.53609702e-03\n",
      "  3.48426423e-04  7.31600657e-03  1.40971593e-02  2.04258241e-02\n",
      "  2.60496943e-02  3.07401614e-02  3.43014870e-02  3.65788381e-02\n",
      "  3.74648615e-02  3.69045232e-02  3.48980036e-02  3.15015071e-02\n",
      "  2.68259268e-02  2.10333832e-02  1.43317383e-02  6.96726677e-03\n",
      " -7.84263014e-04 -8.62777945e-03 -1.62599977e-02 -2.33809978e-02\n",
      " -2.97058542e-02 -3.49758717e-02 -3.89689905e-02 -4.15089498e-02\n",
      " -4.24728366e-02 -4.17967080e-02 -3.94790377e-02 -3.55818214e-02\n",
      " -3.02292598e-02 -2.36040297e-02 -1.59412463e-02 -7.52030851e-03\n",
      "  1.34509577e-03  1.03184743e-02  1.90530911e-02  2.72051415e-02\n",
      "  3.44470496e-02  4.04803818e-02  4.50478771e-02  4.79441184e-02\n",
      "  4.90244150e-02  4.82115224e-02  4.54999061e-02  4.09573398e-02\n",
      "  3.47237287e-02  2.70071490e-02  1.80772033e-02  8.25589203e-03\n",
      " -2.09369924e-03 -1.25805094e-02 -2.27999454e-02 -3.23491372e-02\n",
      " -4.08424428e-02 -4.79266179e-02 -5.32950701e-02 -5.67006371e-02\n",
      " -5.79663751e-02 -5.69939066e-02 -5.37689602e-02 -4.83638330e-02\n",
      " -4.09366157e-02 -3.17271387e-02 -2.10497208e-02 -9.28292155e-03\n",
      "  3.14338343e-03  1.57631792e-02  2.80912200e-02  3.96410760e-02\n",
      "  4.99436656e-02  5.85655908e-02  6.51265837e-02  6.93153891e-02\n",
      "  7.09034512e-02  6.97558390e-02  6.58389331e-02  5.92245076e-02\n",
      "  5.00899599e-02  3.87145841e-02  2.54719203e-02  1.08183614e-02\n",
      " -4.72166066e-03 -2.05734556e-02 -3.61322449e-02 -5.07850466e-02\n",
      " -6.39335172e-02 -7.50169390e-02 -8.35345177e-02 -8.90661529e-02\n",
      " -9.12908832e-02 -9.00022644e-02 -8.51200339e-02 -7.66975272e-02\n",
      " -6.49244515e-02 -5.01247732e-02 -3.27496464e-02 -1.33654797e-02\n",
      "  7.36258614e-03  2.86913478e-02  4.98237594e-02  6.99359626e-02\n",
      "  8.82062724e-02  1.03845170e-01  1.16125296e-01  1.24410408e-01\n",
      "  1.28182275e-01  1.27064531e-01  1.20842563e-01  1.09478659e-01\n",
      "  9.31217445e-02  7.21112101e-02  4.69745371e-02  1.84185953e-02\n",
      " -1.26852798e-02 -4.53221305e-02 -7.83596331e-02 -1.10579071e-01\n",
      " -1.40710156e-01 -1.67468697e-01 -1.89595976e-01 -2.05898640e-01\n",
      " -2.15287858e-01 -2.16816489e-01 -2.09713064e-01 -1.93411433e-01\n",
      " -1.67575076e-01 -1.32115198e-01 -8.72019350e-02 -3.32681740e-02\n",
      "  2.89942599e-02  9.86460839e-02  1.74519489e-01  2.55244082e-01\n",
      "  3.39279168e-01  4.24951504e-01  5.10497484e-01  5.94108543e-01\n",
      "  6.73978502e-01  7.48351452e-01  8.15568793e-01  8.74114035e-01\n",
      "  9.22654030e-01  9.60075411e-01  9.85515151e-01  9.98384316e-01\n",
      "  9.98384316e-01  9.85515151e-01  9.60075411e-01  9.22654030e-01\n",
      "  8.74114035e-01  8.15568793e-01  7.48351452e-01  6.73978502e-01\n",
      "  5.94108543e-01  5.10497484e-01  4.24951504e-01  3.39279168e-01\n",
      "  2.55244082e-01  1.74519489e-01  9.86460839e-02  2.89942599e-02\n",
      " -3.32681740e-02 -8.72019350e-02 -1.32115198e-01 -1.67575076e-01\n",
      " -1.93411433e-01 -2.09713064e-01 -2.16816489e-01 -2.15287858e-01\n",
      " -2.05898640e-01 -1.89595976e-01 -1.67468697e-01 -1.40710156e-01\n",
      " -1.10579071e-01 -7.83596331e-02 -4.53221305e-02 -1.26852798e-02\n",
      "  1.84185953e-02  4.69745371e-02  7.21112101e-02  9.31217445e-02\n",
      "  1.09478659e-01  1.20842563e-01  1.27064531e-01  1.28182275e-01\n",
      "  1.24410408e-01  1.16125296e-01  1.03845170e-01  8.82062724e-02\n",
      "  6.99359626e-02  4.98237594e-02  2.86913478e-02  7.36258614e-03\n",
      " -1.33654797e-02 -3.27496464e-02 -5.01247732e-02 -6.49244515e-02\n",
      " -7.66975272e-02 -8.51200339e-02 -9.00022644e-02 -9.12908832e-02\n",
      " -8.90661529e-02 -8.35345177e-02 -7.50169390e-02 -6.39335172e-02\n",
      " -5.07850466e-02 -3.61322449e-02 -2.05734556e-02 -4.72166066e-03\n",
      "  1.08183614e-02  2.54719203e-02  3.87145841e-02  5.00899599e-02\n",
      "  5.92245076e-02  6.58389331e-02  6.97558390e-02  7.09034512e-02\n",
      "  6.93153891e-02  6.51265837e-02  5.85655908e-02  4.99436656e-02\n",
      "  3.96410760e-02  2.80912200e-02  1.57631792e-02  3.14338343e-03\n",
      " -9.28292155e-03 -2.10497208e-02 -3.17271387e-02 -4.09366157e-02\n",
      " -4.83638330e-02 -5.37689602e-02 -5.69939066e-02 -5.79663751e-02\n",
      " -5.67006371e-02 -5.32950701e-02 -4.79266179e-02 -4.08424428e-02\n",
      " -3.23491372e-02 -2.27999454e-02 -1.25805094e-02 -2.09369924e-03\n",
      "  8.25589203e-03  1.80772033e-02  2.70071490e-02  3.47237287e-02\n",
      "  4.09573398e-02  4.54999061e-02  4.82115224e-02  4.90244150e-02\n",
      "  4.79441184e-02  4.50478771e-02  4.04803818e-02  3.44470496e-02\n",
      "  2.72051415e-02  1.90530911e-02  1.03184743e-02  1.34509577e-03\n",
      " -7.52030851e-03 -1.59412463e-02 -2.36040297e-02 -3.02292598e-02\n",
      " -3.55818214e-02 -3.94790377e-02 -4.17967080e-02 -4.24728366e-02\n",
      " -4.15089498e-02 -3.89689905e-02 -3.49758717e-02 -2.97058542e-02\n",
      " -2.33809978e-02 -1.62599977e-02 -8.62777945e-03 -7.84263014e-04\n",
      "  6.96726677e-03  1.43317383e-02  2.10333832e-02  2.68259268e-02\n",
      "  3.15015071e-02  3.48980036e-02  3.69045232e-02  3.74648615e-02\n",
      "  3.65788381e-02  3.43014870e-02  3.07401614e-02  2.60496943e-02\n",
      "  2.04258241e-02  1.40971593e-02  7.31600657e-03  3.48426423e-04\n",
      " -6.53609702e-03 -1.30749743e-02 -1.90224259e-02 -2.41586245e-02\n",
      " -2.82977264e-02 -3.12945029e-02 -3.30493385e-02 -3.35114266e-02\n",
      " -3.26800662e-02 -3.06040334e-02 -2.73790776e-02 -2.31436608e-02\n",
      " -1.80731246e-02 -1.23725263e-02 -6.26843318e-03 -3.89817183e-17]\n"
     ]
    }
   ],
   "source": [
    "import matplotlib as mpt\n",
    "import matplotlib.pyplot as plt\n",
    "import seaborn as sbn\n",
    "\n",
    "sincA = np.sinc(A)\n",
    "print(sincA)"
   ]
  },
  {
   "cell_type": "markdown",
   "metadata": {},
   "source": []
  },
  {
   "cell_type": "markdown",
   "metadata": {},
   "source": [
    "**Problem 3.**"
   ]
  },
  {
   "cell_type": "code",
   "execution_count": 3,
   "metadata": {},
   "outputs": [
    {
     "data": {
      "text/plain": [
       "[<matplotlib.lines.Line2D at 0x1f51ed78e50>]"
      ]
     },
     "execution_count": 3,
     "metadata": {},
     "output_type": "execute_result"
    },
    {
     "data": {
      "image/png": "[encoded data removed]",
      "text/plain": [
       "<Figure size 432x288 with 1 Axes>"
      ]
     },
     "metadata": {
      "needs_background": "light"
     },
     "output_type": "display_data"
    }
   ],
   "source": [
    "plt.plot(A,sincA)"
   ]
  },
  {
   "cell_type": "markdown",
   "metadata": {},
   "source": [
    "**Problem 4.**"
   ]
  },
  {
   "cell_type": "code",
   "execution_count": 9,
   "metadata": {},
   "outputs": [
    {
     "name": "stdout",
     "output_type": "stream",
     "text": [
      "[[-5 -5]\n",
      " [-4 -5]\n",
      " [-3 -5]\n",
      " [-2 -5]\n",
      " [-1 -5]\n",
      " [ 0 -5]\n",
      " [ 1 -5]\n",
      " [ 2 -5]\n",
      " [ 3 -5]\n",
      " [ 4 -5]\n",
      " [-5 -4]\n",
      " [-4 -4]\n",
      " [-3 -4]\n",
      " [-2 -4]\n",
      " [-1 -4]\n",
      " [ 0 -4]\n",
      " [ 1 -4]\n",
      " [ 2 -4]\n",
      " [ 3 -4]\n",
      " [ 4 -4]\n",
      " [-5 -3]\n",
      " [-4 -3]\n",
      " [-3 -3]\n",
      " [-2 -3]\n",
      " [-1 -3]\n",
      " [ 0 -3]\n",
      " [ 1 -3]\n",
      " [ 2 -3]\n",
      " [ 3 -3]\n",
      " [ 4 -3]\n",
      " [-5 -2]\n",
      " [-4 -2]\n",
      " [-3 -2]\n",
      " [-2 -2]\n",
      " [-1 -2]\n",
      " [ 0 -2]\n",
      " [ 1 -2]\n",
      " [ 2 -2]\n",
      " [ 3 -2]\n",
      " [ 4 -2]\n",
      " [-5 -1]\n",
      " [-4 -1]\n",
      " [-3 -1]\n",
      " [-2 -1]\n",
      " [-1 -1]\n",
      " [ 0 -1]\n",
      " [ 1 -1]\n",
      " [ 2 -1]\n",
      " [ 3 -1]\n",
      " [ 4 -1]\n",
      " [-5  0]\n",
      " [-4  0]\n",
      " [-3  0]\n",
      " [-2  0]\n",
      " [-1  0]\n",
      " [ 0  0]\n",
      " [ 1  0]\n",
      " [ 2  0]\n",
      " [ 3  0]\n",
      " [ 4  0]\n",
      " [-5  1]\n",
      " [-4  1]\n",
      " [-3  1]\n",
      " [-2  1]\n",
      " [-1  1]\n",
      " [ 0  1]\n",
      " [ 1  1]\n",
      " [ 2  1]\n",
      " [ 3  1]\n",
      " [ 4  1]\n",
      " [-5  2]\n",
      " [-4  2]\n",
      " [-3  2]\n",
      " [-2  2]\n",
      " [-1  2]\n",
      " [ 0  2]\n",
      " [ 1  2]\n",
      " [ 2  2]\n",
      " [ 3  2]\n",
      " [ 4  2]\n",
      " [-5  3]\n",
      " [-4  3]\n",
      " [-3  3]\n",
      " [-2  3]\n",
      " [-1  3]\n",
      " [ 0  3]\n",
      " [ 1  3]\n",
      " [ 2  3]\n",
      " [ 3  3]\n",
      " [ 4  3]\n",
      " [-5  4]\n",
      " [-4  4]\n",
      " [-3  4]\n",
      " [-2  4]\n",
      " [-1  4]\n",
      " [ 0  4]\n",
      " [ 1  4]\n",
      " [ 2  4]\n",
      " [ 3  4]\n",
      " [ 4  4]]\n",
      "2 , 2\n",
      "-1 , 4\n",
      "-1 , -3\n",
      "-4 , 4\n",
      "3 , 4\n",
      "0 , -5\n",
      "4 , 0\n",
      "1 , 1\n",
      "-5 , 1\n",
      "-3 , -3\n",
      "[[0 0 0 0 0 1 0 0 0 0]\n",
      " [0 1 0 0 0 0 0 0 0 0]\n",
      " [0 0 1 0 0 0 0 0 0 0]\n",
      " [0 0 0 0 1 0 0 0 0 0]\n",
      " [1 0 0 0 0 0 0 0 0 0]\n",
      " [0 1 0 0 0 0 0 0 0 0]\n",
      " [0 0 0 0 1 0 0 0 0 0]\n",
      " [0 0 0 0 0 0 0 1 0 0]\n",
      " [0 0 0 0 0 0 0 0 0 0]\n",
      " [0 0 0 0 1 0 0 1 0 0]]\n"
     ]
    }
   ],
   "source": [
    "B = np.arange(-5,5,1)\n",
    "cartProductB = np.transpose([np.tile(B, len(B)), np.repeat(B, len(B))])\n",
    "print(cartProductB)\n",
    "\n",
    "import random\n",
    "M = np.ndarray(shape=(10,10), dtype=int)\n",
    "M.fill(0)\n",
    "\n",
    "#relation generator\n",
    "for i in random.sample(range(len(cartProductB)), 10):\n",
    "    print(cartProductB[i][0], ',', cartProductB[i][1])\n",
    "    M[cartProductB[i][0]][cartProductB[i][1]] = 1\n",
    "print(M)"
   ]
  },
  {
   "cell_type": "markdown",
   "metadata": {},
   "source": [
    "**Problem 5.**"
   ]
  },
  {
   "cell_type": "code",
   "execution_count": 5,
   "metadata": {},
   "outputs": [],
   "source": [
    "from sympy import *\n",
    "\n",
    "def newton(func, sym, val=1, depth=5):\n",
    "    newVal = val - func.subs(sym,val) / diff(f).subs(sym, val)\n",
    "    if(depth == 1): #maybe change depth to precision ex: 5 = precision to 0.00001 or 10^-5\n",
    "        return newVal\n",
    "    return newton(func, sym, newVal, depth - 1)"
   ]
  },
  {
   "cell_type": "code",
   "execution_count": 6,
   "metadata": {},
   "outputs": [],
   "source": [
    "x = symbols('x')"
   ]
  },
  {
   "cell_type": "code",
   "execution_count": 7,
   "metadata": {},
   "outputs": [],
   "source": [
    "f = sin(x)**2 - x**2 + 1"
   ]
  },
  {
   "cell_type": "code",
   "execution_count": 8,
   "metadata": {},
   "outputs": [
    {
     "data": {
      "text/latex": [
       "$\\displaystyle 1.40449164821534$"
      ],
      "text/plain": [
       "1.40449164821534"
      ]
     },
     "execution_count": 8,
     "metadata": {},
     "output_type": "execute_result"
    }
   ],
   "source": [
    "newton(f,x,0.5,50)"
   ]
  }
 ],
 "metadata": {
  "kernelspec": {
   "display_name": "Python 3",
   "language": "python",
   "name": "python3"
  },
  "language_info": {
   "codemirror_mode": {
    "name": "ipython",
    "version": 3
   },
   "file_extension": ".py",
   "mimetype": "text/x-python",
   "name": "python",
   "nbconvert_exporter": "python",
   "pygments_lexer": "ipython3",
   "version": "3.8.3"
  }
 },
 "nbformat": 4,
 "nbformat_minor": 4
}
