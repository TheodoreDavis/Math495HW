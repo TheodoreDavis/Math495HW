{
 "cells": [
  {
   "cell_type": "markdown",
   "metadata": {},
   "source": [
    "**1**"
   ]
  },
  {
   "cell_type": "code",
   "execution_count": 30,
   "metadata": {},
   "outputs": [
    {
     "name": "stdout",
     "output_type": "stream",
     "text": [
      "['p', 'n', 'e', 'u', 'm', 'o', 'n', 'o', 'u', 'l', 't', 'r', 'a', 'm', 'i', 'c', 'r', 'o', 's', 'c', 'o', 'p', 'i', 'c', 's', 'i', 'l', 'i', 'c', 'o', 'v', 'o', 'l', 'c', 'a', 'n', 'o', 'c', 'o', 'n', 'i', 'o', 's', 'i', 's', 'i', 's']\n"
     ]
    }
   ],
   "source": [
    "alphabet = 'abcdefghijklmnopqrstuvwxyz'\n",
    "word = 'pneumonoultramicroscopicsilicovolcanoconiosisis'\n",
    "\n",
    "listLetters = list(word)\n",
    "print(listLetters)"
   ]
  },
  {
   "cell_type": "code",
   "execution_count": 23,
   "metadata": {},
   "outputs": [
    {
     "name": "stdout",
     "output_type": "stream",
     "text": [
      "<class 'set'>\n",
      "{'p', 'a', 'r', 't', 'i', 'u', 'e', 'm', 'o', 'l', 'c', 'v', 's', 'n'}\n"
     ]
    }
   ],
   "source": [
    "setLetters = set(listLetters)\n",
    "print(setLetters)"
   ]
  },
  {
   "cell_type": "code",
   "execution_count": 29,
   "metadata": {},
   "outputs": [
    {
     "name": "stdout",
     "output_type": "stream",
     "text": [
      "{'j', 'd', 'z', 'k', 'h', 'x', 'b', 'q', 'f', 'g', 'w', 'y'}\n"
     ]
    }
   ],
   "source": [
    "U = set(alphabet)\n",
    "print(U.difference(setLetters))"
   ]
  },
  {
   "cell_type": "code",
   "execution_count": 28,
   "metadata": {},
   "outputs": [
    {
     "name": "stdout",
     "output_type": "stream",
     "text": [
      "{'p': 2, 'a': 2, 'r': 2, 't': 1, 'i': 7, 'u': 2, 'e': 1, 'm': 2, 'o': 9, 'l': 3, 'c': 6, 'v': 1, 's': 5, 'n': 4}\n"
     ]
    }
   ],
   "source": [
    "myDict = dict()\n",
    "for letter in setLetters:\n",
    "    myDict[letter] = word.count(letter)\n",
    "print(myDict)"
   ]
  },
  {
   "cell_type": "markdown",
   "metadata": {},
   "source": [
    "**2**"
   ]
  },
  {
   "cell_type": "code",
   "execution_count": 37,
   "metadata": {},
   "outputs": [
    {
     "name": "stdout",
     "output_type": "stream",
     "text": [
      "{'r', 'd', 'u', 'e', 'm', 'v', 'l', 'g', 'a', 'p', 't', 'i', 'o', 'x', 'c', 'f', 's', 'n'}\n",
      "{'p', 'r', 't', 'i', 'u', 'e', 'o', 'l', 'c', 's', 'a'}\n"
     ]
    }
   ],
   "source": [
    "word2 = 'supercalifragilisticexpialidocious'\n",
    "\n",
    "A = setLetters\n",
    "B = set(word2)\n",
    "Ac = U.difference(A)\n",
    "Bc = U.difference(B)\n",
    "\n",
    "print(A.union(B))\n",
    "print(A.intersection(B))"
   ]
  },
  {
   "cell_type": "code",
   "execution_count": 38,
   "metadata": {},
   "outputs": [
    {
     "name": "stdout",
     "output_type": "stream",
     "text": [
      "{'m', 'n', 'v'}\n",
      "{'x', 'g', 'f', 'd'}\n",
      "{'m', 'x', 'v', 'f', 'd', 'g', 'n'}\n"
     ]
    }
   ],
   "source": [
    "print(A.difference(B))\n",
    "print(B.difference(A))\n",
    "print(B.difference(A).union(A.difference(B)))"
   ]
  },
  {
   "cell_type": "code",
   "execution_count": 39,
   "metadata": {},
   "outputs": [
    {
     "name": "stdout",
     "output_type": "stream",
     "text": [
      "True\n"
     ]
    }
   ],
   "source": [
    "print(A.difference(B) == A.intersection(Bc) or \n",
    "     A.difference(B) == B.intersection(Ac))"
   ]
  },
  {
   "cell_type": "code",
   "execution_count": 40,
   "metadata": {},
   "outputs": [
    {
     "name": "stdout",
     "output_type": "stream",
     "text": [
      "True\n",
      "True\n"
     ]
    }
   ],
   "source": [
    "print(U.difference(A.union(B)) == \n",
    "      Ac.intersection(Bc))\n",
    "print(U.difference(A.intersection(B)) == \n",
    "      Ac.union(Bc))"
   ]
  },
  {
   "cell_type": "markdown",
   "metadata": {},
   "source": [
    "**3**"
   ]
  },
  {
   "cell_type": "code",
   "execution_count": 47,
   "metadata": {},
   "outputs": [
    {
     "data": {
      "text/plain": [
       "True"
      ]
     },
     "execution_count": 47,
     "metadata": {},
     "output_type": "execute_result"
    }
   ],
   "source": [
    "import pandas as pd\n",
    "import numpy as np\n",
    "\n",
    "titanic = pd.read_csv('titanic.csv')\n",
    "pd.isna(titanic.cabin).any()"
   ]
  },
  {
   "cell_type": "markdown",
   "metadata": {},
   "source": [
    "The statement above checks to see if any entries in the cabin column was empty. This follows the logic lecture as you can reformat this statement into r1.cabin = empty or r2.cabin = empty or ... which is a logical statement."
   ]
  },
  {
   "cell_type": "code",
   "execution_count": null,
   "metadata": {},
   "outputs": [],
   "source": []
  }
 ],
 "metadata": {
  "kernelspec": {
   "display_name": "Python 3",
   "language": "python",
   "name": "python3"
  },
  "language_info": {
   "codemirror_mode": {
    "name": "ipython",
    "version": 3
   },
   "file_extension": ".py",
   "mimetype": "text/x-python",
   "name": "python",
   "nbconvert_exporter": "python",
   "pygments_lexer": "ipython3",
   "version": "3.8.3"
  }
 },
 "nbformat": 4,
 "nbformat_minor": 4
}
