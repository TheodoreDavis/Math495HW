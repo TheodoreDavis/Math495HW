{
 "cells": [
  {
   "cell_type": "markdown",
   "metadata": {},
   "source": [
    "### This HW is due on Tuesday 10/20 at 11:59 pm CST."
   ]
  },
  {
   "cell_type": "markdown",
   "metadata": {},
   "source": [
    "We will use the same baseball data set for this lab.\n",
    "Here are the details for your reference.\n",
    "This dataset contains data concerning a baseball team's performance in a given year. It has the following variables:\n",
    "\n",
    "Team: A code for the name of the team\n",
    "\n",
    "League: The Major League Baseball league the team belongs to, either AL (American League) or NL (National League)\n",
    "\n",
    "Year: The year of the corresponding record\n",
    "\n",
    "RS: The number of runs scored by the team in that year\n",
    "\n",
    "RA: The number of runs allowed by the team in that year\n",
    "\n",
    "W: The number of regular-season wins by the team in that year\n",
    "\n",
    "OBP: The on-base percentage of the team in that year\n",
    "\n",
    "SLG: The slugging percentage of the team in that year\n",
    "\n",
    "BA: The batting average of the team in that year\n",
    "\n",
    "Playoffs: Whether the team made the playoffs in that year (1 for yes, 0 for no)\n",
    "\n",
    "RankSeason: Among the playoff teams in that year, the ranking of their regular season records (1 is best)\n",
    "\n",
    "RankPlayoffs: Among the playoff teams in that year, how well they fared in the playoffs. The team winning the World Series gets a RankPlayoffs of 1.\n",
    "\n",
    "G: The number of games a team played in that year\n",
    "\n",
    "OOBP: The team's opponents' on-base percentage in that year\n",
    "\n",
    "OSLG: The team's opponents' slugging percentage in that year"
   ]
  },
  {
   "cell_type": "code",
   "execution_count": 3,
   "metadata": {},
   "outputs": [],
   "source": [
    "import pandas as pd\n",
    "import numpy as np\n",
    "import matplotlib as mpt\n",
    "import matplotlib.pyplot as plt\n",
    "import seaborn as sns"
   ]
  },
  {
   "cell_type": "markdown",
   "metadata": {},
   "source": [
    "### Problem 1 [25]\n",
    "Correlation coefficient: We have talked about correlation and what it means in our lecture. Correlation coefficent is a number that measures how two columns are correlated. There are many kinds of correlation coefficients. We will use Pearson's Correlation coefficient. Given that the variables x and y have data points $x_1, x_2,..., x_n$ and $y_1, y_2,.., y_n$ then the correlation coefficient is defined by $r_{xy}=\\dfrac{\\displaystyle{\\sum_{i=1}^n(x_i-\\bar{x})(y_i-\\bar{y})}}{\\sigma_x\\, \\sigma_y}$. The number\n",
    "$r_{xy}$ is the correlation coefficient. It's value ranges from -1 to 1. Correlation coefficent of -1 means highest possible negative correlation, 0 means no correlation and 1 means highest possible positive correlation.\n",
    "$\\bar{x}$ and $\\bar{y}$ are means of x and y respectively. Here, $\\sigma_x$ and $\\sigma_y$  are standard deviations of x and y, respectively. You do not have to worry about the complicated looking formula. We will use pandas to find the correlation. Read about corr function here. https://www.w3resource.com/pandas/dataframe/dataframe-corr.php"
   ]
  },
  {
   "cell_type": "markdown",
   "metadata": {},
   "source": [
    "Upload the baseball.csv data and remove 4 variables that have a high number of null values.Find correlations of all the remaining variables with all the variables.  Find out how to read a correlation table and answer the following. \n",
    "\n",
    "(a) Which two different variables are highly negatively correlated?\n",
    "\n",
    "(b) Which two different variables are highly positively correlated?\n",
    "\n",
    "(c) Which two different variables are least correlated?\n",
    "\n",
    "(d) Why does the output matrix has 1 in the diagonal?"
   ]
  },
  {
   "cell_type": "code",
   "execution_count": 1,
   "metadata": {},
   "outputs": [],
   "source": [
    "#Use the data you get after removing 4 variables from problem 1."
   ]
  },
  {
   "cell_type": "markdown",
   "metadata": {},
   "source": [
    "### Problem 2 [25]\n",
    "Pairwise plot and Heatmap: Pair plot is the scatterplot of every two pairs of variables in the data. A correlation heatmap uses colored cells, typically in a monochromatic scale, to show a 2D correlation matrix (table) between two discrete dimensions or event types. The first dimension values appear as rows of the table, while the table's columns represent the values of the second dimension. The color value of the cells is proportional to the number of measurements that match the dimensional values. This enables you to identify incidence patterns quickly and to recognize anomalies.\n",
    "Heatmap is a very popular graphing technique. You see it everywhere, from weather data analysis to web page analytics. Read more following the links here.\n",
    "https://seaborn.pydata.org/generated/seaborn.pairplot.html\n",
    "\n",
    "https://towardsdatascience.com/better-heatmaps-and-correlation-matrix-plots-in-python-41445d0f2bec\n",
    "\n",
    "a) Find the pair plot of the baseball data frame and make a few observations.\n",
    "\n",
    "b) Plot the correlation heatmap and make a few observations."
   ]
  },
  {
   "cell_type": "code",
   "execution_count": 8,
   "metadata": {},
   "outputs": [],
   "source": [
    "#The following package is for linear regression. We will be using Ordinary Least Square (OLS).\n",
    "import statsmodels.api as sm"
   ]
  },
  {
   "cell_type": "markdown",
   "metadata": {},
   "source": [
    "### Problem 3 [25]\n",
    "(a) Consider two variables from problem 1(a) above. Make a scatter plot of these two variables. Which variable you think can be considered a dependent variable between these 2? \n",
    "\n",
    "(b) Do the same as in 3(a) for two variables in 1(b)."
   ]
  },
  {
   "cell_type": "markdown",
   "metadata": {},
   "source": [
    "### Problem 4 [25]\n",
    "(a) Let  𝑦  be the dependent variable in 3(a) and  𝑥  to be the other variable. Make sure to add a constant to x. Fit a linear regression model and find the coefficients $\\beta_0$ and $\\beta_1$ in the linear regression equation $y\\approx \\beta_0 +\\beta_1 x$. Print the summary of the model report $R^2$ value. Read more about $R^2$ value here.\n",
    "https://blog.minitab.com/blog/adventures-in-statistics-2/regression-analysis-how-do-i-interpret-r-squared-and-assess-the-goodness-of-fit\n",
    " Among many details that come out of the linear model summary, we will only focus on $R^2$, the coef, and intercept for now.\n",
    " \n",
    "(b) Let  z  be the dependent variable in 3(b) and  w to be the other variable. Repead problem 4(a) for $z$ and $x$."
   ]
  }
 ],
 "metadata": {
  "kernelspec": {
   "display_name": "Python 3",
   "language": "python",
   "name": "python3"
  },
  "language_info": {
   "codemirror_mode": {
    "name": "ipython",
    "version": 3
   },
   "file_extension": ".py",
   "mimetype": "text/x-python",
   "name": "python",
   "nbconvert_exporter": "python",
   "pygments_lexer": "ipython3",
   "version": "3.8.5"
  }
 },
 "nbformat": 4,
 "nbformat_minor": 2
}
