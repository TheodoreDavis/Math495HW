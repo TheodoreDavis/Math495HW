{
 "cells": [
  {
   "cell_type": "markdown",
   "metadata": {},
   "source": [
    "# Problem 1."
   ]
  },
  {
   "cell_type": "code",
   "execution_count": 1,
   "metadata": {},
   "outputs": [],
   "source": [
    "import pandas as pd\n",
    "import numpy as np\n",
    "\n",
    "rawData = pd.read_csv('diabetes.csv')"
   ]
  },
  {
   "cell_type": "code",
   "execution_count": 2,
   "metadata": {},
   "outputs": [
    {
     "data": {
      "text/plain": [
       "Pregnancies                 0\n",
       "Glucose                     0\n",
       "BloodPressure               0\n",
       "SkinThickness               0\n",
       "Insulin                     0\n",
       "BMI                         0\n",
       "DiabetesPedigreeFunction    0\n",
       "Age                         0\n",
       "Outcome                     0\n",
       "dtype: int64"
      ]
     },
     "execution_count": 2,
     "metadata": {},
     "output_type": "execute_result"
    }
   ],
   "source": [
    "rawData.isna().sum()"
   ]
  },
  {
   "cell_type": "markdown",
   "metadata": {},
   "source": [
    "-No null values, so no need to remove anything."
   ]
  },
  {
   "cell_type": "code",
   "execution_count": 3,
   "metadata": {},
   "outputs": [
    {
     "data": {
      "text/plain": [
       "Pregnancies                   int64\n",
       "Glucose                       int64\n",
       "BloodPressure                 int64\n",
       "SkinThickness                 int64\n",
       "Insulin                       int64\n",
       "BMI                         float64\n",
       "DiabetesPedigreeFunction    float64\n",
       "Age                           int64\n",
       "Outcome                       int64\n",
       "dtype: object"
      ]
     },
     "execution_count": 3,
     "metadata": {},
     "output_type": "execute_result"
    }
   ],
   "source": [
    "rawData.dtypes"
   ]
  },
  {
   "cell_type": "markdown",
   "metadata": {},
   "source": [
    "-Double checking with the actual file the names and data types are all correct."
   ]
  },
  {
   "cell_type": "code",
   "execution_count": 4,
   "metadata": {},
   "outputs": [
    {
     "data": {
      "text/plain": [
       "Pregnancies                 111\n",
       "Glucose                       5\n",
       "BloodPressure                35\n",
       "SkinThickness               227\n",
       "Insulin                     374\n",
       "BMI                          11\n",
       "DiabetesPedigreeFunction      0\n",
       "Age                           0\n",
       "Outcome                     500\n",
       "dtype: int64"
      ]
     },
     "execution_count": 4,
     "metadata": {},
     "output_type": "execute_result"
    }
   ],
   "source": [
    "#count the number of 0s\n",
    "(~rawData.astype(bool)).sum()"
   ]
  },
  {
   "cell_type": "code",
   "execution_count": 5,
   "metadata": {},
   "outputs": [
    {
     "data": {
      "text/plain": [
       "Pregnancies                  99\n",
       "Glucose                       0\n",
       "BloodPressure                 0\n",
       "SkinThickness               192\n",
       "Insulin                     332\n",
       "BMI                           0\n",
       "DiabetesPedigreeFunction      0\n",
       "Age                           0\n",
       "Outcome                     475\n",
       "dtype: int64"
      ]
     },
     "execution_count": 5,
     "metadata": {},
     "output_type": "execute_result"
    }
   ],
   "source": [
    "#remove any people with 0s in Glucose, BP, and BMI\n",
    "eData = rawData[rawData.Glucose != 0]\n",
    "eData = eData[eData.BloodPressure != 0]\n",
    "eData = eData[eData.BMI != 0]\n",
    "(~eData.astype(bool)).sum()"
   ]
  },
  {
   "cell_type": "code",
   "execution_count": 6,
   "metadata": {},
   "outputs": [
    {
     "name": "stdout",
     "output_type": "stream",
     "text": [
      "Dimensions:\n",
      "(724, 9)\n",
      "~~~~~~~~~~~~~~~~~~~~~~~~~~~~~~~~~~~~~~~\n",
      "       Pregnancies     Glucose  BloodPressure  SkinThickness     Insulin  \\\n",
      "count   724.000000  724.000000     724.000000     724.000000  724.000000   \n",
      "mean      3.866022  121.882597      72.400552      21.443370   84.494475   \n",
      "std       3.362803   30.750030      12.379870      15.732756  117.016513   \n",
      "min       0.000000   44.000000      24.000000       0.000000    0.000000   \n",
      "25%       1.000000   99.750000      64.000000       0.000000    0.000000   \n",
      "50%       3.000000  117.000000      72.000000      24.000000   48.000000   \n",
      "75%       6.000000  142.000000      80.000000      33.000000  130.500000   \n",
      "max      17.000000  199.000000     122.000000      99.000000  846.000000   \n",
      "\n",
      "              BMI  DiabetesPedigreeFunction         Age     Outcome  \n",
      "count  724.000000                724.000000  724.000000  724.000000  \n",
      "mean    32.467127                  0.474765   33.350829    0.343923  \n",
      "std      6.888941                  0.332315   11.765393    0.475344  \n",
      "min     18.200000                  0.078000   21.000000    0.000000  \n",
      "25%     27.500000                  0.245000   24.000000    0.000000  \n",
      "50%     32.400000                  0.379000   29.000000    0.000000  \n",
      "75%     36.600000                  0.627500   41.000000    1.000000  \n",
      "max     67.100000                  2.420000   81.000000    1.000000  \n"
     ]
    }
   ],
   "source": [
    "#data for edited dataframe\n",
    "print('Dimensions:')\n",
    "print(eData.shape)\n",
    "print('~~~~~~~~~~~~~~~~~~~~~~~~~~~~~~~~~~~~~~~')\n",
    "print(eData.describe())"
   ]
  },
  {
   "cell_type": "markdown",
   "metadata": {},
   "source": [
    "# Problem 2."
   ]
  },
  {
   "cell_type": "code",
   "execution_count": 7,
   "metadata": {},
   "outputs": [
    {
     "name": "stdout",
     "output_type": "stream",
     "text": [
      "37 prediabetic obese women\n"
     ]
    }
   ],
   "source": [
    "#limit dataframe to women with\n",
    "selectWomen = eData[eData.BMI > 30]\n",
    "selectWomen = selectWomen[selectWomen.Outcome == 0]\n",
    "selectWomen = selectWomen[selectWomen.Glucose <= 199]\n",
    "selectWomen = selectWomen[selectWomen.Glucose >= 140]\n",
    "\n",
    "print(len(selectWomen), 'prediabetic obese women')\n",
    "#print()\n",
    "#selectWomen.head()"
   ]
  },
  {
   "cell_type": "code",
   "execution_count": 8,
   "metadata": {},
   "outputs": [
    {
     "data": {
      "image/png": "[encoded data removed]",
      "text/plain": [
       "<Figure size 432x288 with 1 Axes>"
      ]
     },
     "metadata": {
      "needs_background": "light"
     },
     "output_type": "display_data"
    }
   ],
   "source": [
    "import matplotlib.pyplot as plt\n",
    "\n",
    "plt.hist(selectWomen.Insulin)\n",
    "plt.xlabel('Insulin levels')\n",
    "plt.ylabel('Number of people')\n",
    "plt.show()"
   ]
  },
  {
   "cell_type": "markdown",
   "metadata": {},
   "source": [
    "Most of the women in the dataset have low insulin levels"
   ]
  },
  {
   "cell_type": "markdown",
   "metadata": {},
   "source": [
    "# Problem 3."
   ]
  },
  {
   "cell_type": "code",
   "execution_count": 9,
   "metadata": {},
   "outputs": [],
   "source": [
    "#bitmasks for sorted BMI into catagories\n",
    "underweight  = (eData.BMI < 18.5)\n",
    "normalweight = (eData.BMI < 25) & ~underweight\n",
    "overweight   = (eData.BMI < 30) & ~underweight & ~normalweight\n",
    "obese        = (eData.BMI >= 30)\n",
    "\n",
    "#sort BMI into 4 catagories\n",
    "eData.loc[underweight, 'Weight'] = 'underweight'\n",
    "eData.loc[normalweight, 'Weight'] = 'normalweight'\n",
    "eData.loc[overweight, 'Weight'] = 'overweight'\n",
    "eData.loc[obese, 'Weight'] = 'obese'\n",
    "\n",
    "#bitmasks for sorted BP into catagories\n",
    "normal = eData.BloodPressure <= 80\n",
    "stage2hypertension = eData.BloodPressure > 89\n",
    "stage1hypertension = ~(normal | stage2hypertension)\n",
    "\n",
    "#sort BP into 3 catagories\n",
    "eData.loc[normal, 'BPclass'] = 'normal'\n",
    "eData.loc[stage1hypertension, 'BPclass'] = 'stage1hypertension'\n",
    "eData.loc[stage2hypertension, 'BPclass'] = 'stage2hypertension'"
   ]
  },
  {
   "cell_type": "code",
   "execution_count": 10,
   "metadata": {},
   "outputs": [
    {
     "name": "stdout",
     "output_type": "stream",
     "text": [
      "4 underweight women\n",
      "96 nomralweight women\n",
      "171 overweight women\n",
      "453 obese women\n"
     ]
    }
   ],
   "source": [
    "#number of women in each BMI catagory\n",
    "print(len(eData[underweight]), 'underweight women')\n",
    "print(len(eData[normalweight]), 'nomralweight women')\n",
    "print(len(eData[overweight]), 'overweight women')\n",
    "print(len(eData[obese]), 'obese women')"
   ]
  },
  {
   "cell_type": "code",
   "execution_count": 11,
   "metadata": {},
   "outputs": [
    {
     "name": "stdout",
     "output_type": "stream",
     "text": [
      "Since the total number of women is 724 then there must be at least 181 women in a certain catagory of Weight.\n"
     ]
    }
   ],
   "source": [
    "import math\n",
    "#solve pigeon hole\n",
    "print('Since the total number of women is', len(eData), 'then there must be at least', math.ceil(len(eData)/4), 'women in a certain catagory of Weight.')"
   ]
  },
  {
   "cell_type": "code",
   "execution_count": 12,
   "metadata": {},
   "outputs": [
    {
     "name": "stdout",
     "output_type": "stream",
     "text": [
      "561 women with normal blood pressure\n",
      "104 women with stage 1 hypertension\n",
      "59 women with stage 2 hypertension\n"
     ]
    }
   ],
   "source": [
    "#number of women in each BP catagory\n",
    "print(len(eData[normal]), 'women with normal blood pressure')\n",
    "print(len(eData[stage1hypertension]), 'women with stage 1 hypertension')\n",
    "print(len(eData[stage2hypertension]), 'women with stage 2 hypertension')"
   ]
  },
  {
   "cell_type": "code",
   "execution_count": 13,
   "metadata": {},
   "outputs": [
    {
     "name": "stdout",
     "output_type": "stream",
     "text": [
      "since the total number of women is 724 then there must be at least 242 women in a certain catagory of BPclass.\n"
     ]
    }
   ],
   "source": [
    "#pigeon hole #2\n",
    "print('since the total number of women is', len(eData), 'then there must be at least', math.ceil(len(eData)/3), 'women in a certain catagory of BPclass.')"
   ]
  },
  {
   "cell_type": "markdown",
   "metadata": {},
   "source": [
    "# Problem 4."
   ]
  },
  {
   "cell_type": "code",
   "execution_count": 14,
   "metadata": {},
   "outputs": [
    {
     "data": {
      "image/png": "[encoded data removed]",
      "text/plain": [
       "<Figure size 432x288 with 1 Axes>"
      ]
     },
     "metadata": {
      "needs_background": "light"
     },
     "output_type": "display_data"
    }
   ],
   "source": [
    "#not sure if this is stable code, pivot_table may not return an aplhabetized list and it just so happend to work here\n",
    "weightCatagories = sorted(eData.Weight.unique())\n",
    "peoplePerWeight = eData.pivot_table(index='Weight', aggfunc='size')\n",
    "plt.bar(weightCatagories, peoplePerWeight, color='navy')\n",
    "plt.xlabel('catagory')\n",
    "plt.ylabel('Number of People')\n",
    "plt.title('Distrobutions of body weight')\n",
    "plt.show()"
   ]
  },
  {
   "cell_type": "markdown",
   "metadata": {},
   "source": [
    "With this graph we're able to see that most women in this survey were obese."
   ]
  },
  {
   "cell_type": "code",
   "execution_count": 15,
   "metadata": {},
   "outputs": [
    {
     "data": {
      "text/plain": [
       "Text(0.5, 1.0, 'Percent of people with hypertension')"
      ]
     },
     "execution_count": 15,
     "metadata": {},
     "output_type": "execute_result"
    },
    {
     "data": {
      "image/png": "[encoded data removed]",
      "text/plain": [
       "<Figure size 432x288 with 1 Axes>"
      ]
     },
     "metadata": {},
     "output_type": "display_data"
    }
   ],
   "source": [
    "BPCatagories = sorted(eData.BPclass.unique())\n",
    "peoplePerBP = eData.pivot_table(index='BPclass', aggfunc='size')\n",
    "plt.pie(peoplePerBP, labels=BPCatagories, autopct='%1.1f%%')\n",
    "plt.title('Percent of people with hypertension')"
   ]
  },
  {
   "cell_type": "markdown",
   "metadata": {},
   "source": [
    "With this pie chart we can see that over 3/4ths of women had normal blood pressure levels."
   ]
  },
  {
   "cell_type": "code",
   "execution_count": 16,
   "metadata": {},
   "outputs": [
    {
     "data": {
      "image/png": "[encoded data removed]",
      "text/plain": [
       "<Figure size 432x288 with 1 Axes>"
      ]
     },
     "metadata": {
      "needs_background": "light"
     },
     "output_type": "display_data"
    }
   ],
   "source": [
    "plt.hist(eData.Age, color='red')\n",
    "plt.ylabel('Number of People')\n",
    "plt.xlabel('Age')\n",
    "plt.show()"
   ]
  },
  {
   "cell_type": "markdown",
   "metadata": {},
   "source": [
    "With this histogram we're able to see that over half of the population were women from the age of 20-25."
   ]
  },
  {
   "cell_type": "code",
   "execution_count": 17,
   "metadata": {},
   "outputs": [
    {
     "data": {
      "image/png": "[encoded data removed]",
      "text/plain": [
       "<Figure size 432x288 with 1 Axes>"
      ]
     },
     "metadata": {
      "needs_background": "light"
     },
     "output_type": "display_data"
    }
   ],
   "source": [
    "plt.scatter(eData.BMI, eData.BloodPressure, color='green')\n",
    "plt.xlabel('Body Mass Index')\n",
    "plt.ylabel('Blood Pressure')\n",
    "plt.show()"
   ]
  },
  {
   "cell_type": "markdown",
   "metadata": {},
   "source": [
    " I know normal blood pressure is below 80 and I looked up healthy BMI for women were between 20-25 so I'm curious as to where the center of mass for this plot is."
   ]
  },
  {
   "cell_type": "code",
   "execution_count": 18,
   "metadata": {},
   "outputs": [
    {
     "name": "stdout",
     "output_type": "stream",
     "text": [
      "The center of mass is ( 72.40055248618785 , 32.46712707182321 )\n"
     ]
    }
   ],
   "source": [
    "xMass = eData.BloodPressure.sum() / len(eData)\n",
    "yMass = eData.BMI.sum() / len(eData)\n",
    "print('The center of mass is (', xMass, ',', yMass, ')')"
   ]
  },
  {
   "cell_type": "markdown",
   "metadata": {},
   "source": [
    "So it seems that most of these women have a normal blood pressure but a lot of the women in this data were obese."
   ]
  },
  {
   "cell_type": "markdown",
   "metadata": {},
   "source": [
    "# Problem 5."
   ]
  },
  {
   "cell_type": "markdown",
   "metadata": {},
   "source": [
    "**a)**"
   ]
  },
  {
   "cell_type": "code",
   "execution_count": 19,
   "metadata": {},
   "outputs": [
    {
     "name": "stdout",
     "output_type": "stream",
     "text": [
      "Pregnancies : -1.2679558011049723\n",
      "Glucose : -107.23480662983425\n",
      "BloodPressure : -71.1988950276243\n",
      "SkinThickness : -29.113259668508285\n",
      "Insulin : 24.988950276243088\n",
      "BMI : -32.265745856353604\n",
      "DiabetesPedigreeFunction : -0.1874696132596697\n",
      "Age : -20.29834254143647\n"
     ]
    }
   ],
   "source": [
    "for column in eData:\n",
    "    if column == 'Outcome':\n",
    "        break\n",
    "    print(column, ':', 2 * eData[column].mean() - 3 * eData[column].median())"
   ]
  },
  {
   "cell_type": "markdown",
   "metadata": {},
   "source": [
    "-The variables closest to being ideal are the pregnancies and the DiabetesPedigreeFunction data."
   ]
  },
  {
   "cell_type": "markdown",
   "metadata": {},
   "source": [
    "**b)**"
   ]
  },
  {
   "cell_type": "code",
   "execution_count": 20,
   "metadata": {},
   "outputs": [
    {
     "name": "stdout",
     "output_type": "stream",
     "text": [
      "Pregnancies has 4 outliers\n",
      "Glucose has 0 outliers\n",
      "BloodPressure has 14 outliers\n",
      "SkinThickness has 1 outliers\n",
      "Insulin has 29 outliers\n",
      "BMI has 7 outliers\n",
      "DiabetesPedigreeFunction has 28 outliers\n",
      "Age has 7 outliers\n"
     ]
    }
   ],
   "source": [
    "for column in eData: #find 1st and 3rd quartile for each column and count outliers\n",
    "    if column == 'Outcome':\n",
    "        break\n",
    "    q1 = eData[column].quantile(0.25)\n",
    "    q3 = eData[column].quantile(0.75)\n",
    "    iqr = q3 - q1\n",
    "    #print(column, ': q1', q1, ': q3', q3, ': IQR', iqr)\n",
    "    outliers = len(eData[eData[column] < (q1 - 1.5 * iqr)])\n",
    "    outliers += len(eData[eData[column] > (q3 + 1.5 * iqr)])\n",
    "    print(column, 'has', outliers, 'outliers')\n"
   ]
  },
  {
   "cell_type": "markdown",
   "metadata": {},
   "source": [
    "# Problem 6."
   ]
  },
  {
   "cell_type": "markdown",
   "metadata": {},
   "source": [
    "For this problem I used bayes' rule. I know we didn't learn it in this class but it's a perfect problem for it so I couldn't help myself.\n",
    "\n",
    "P(diabetes | +40yrs n 6+ pregnacies n 140+ glucose n hypertension) = P(+40yrs n 6+ pregnacies n 140+ glucose n hypertension)* P(+40yrs n 6+ pregnacies n 140+ glucose n hypertension | diabetes) / P(diabetes) by Bayes rule\n",
    "\n",
    "P(+40yrs n 6+ pregnacies n 140+ glucose n hypertension | diabetes) = P(diabetes n +40yrs n 6+ pregnacies n 140+ glucose n hypertension) / P(diabetes)"
   ]
  },
  {
   "cell_type": "code",
   "execution_count": 21,
   "metadata": {},
   "outputs": [
    {
     "name": "stdout",
     "output_type": "stream",
     "text": [
      "Probability that Chenoa has diabetes is: 0.009580490637247788\n"
     ]
    }
   ],
   "source": [
    "pDia = eData.Outcome.sum()/len(eData)\n",
    "requirements = (eData.Pregnancies >= 6) & (eData.Glucose >= 140) & (stage1hypertension | stage2hypertension) & (eData.Age >= 40)\n",
    "pReq = len(eData[requirements])/len(eData)\n",
    "pReqGDia = len(eData[requirements & eData.Outcome == 1]) / len(eData) / pDia\n",
    "\n",
    "print('Probability that Chenoa has diabetes is:', pReq * pReqGDia / pDia)"
   ]
  }
 ],
 "metadata": {
  "kernelspec": {
   "display_name": "Python 3",
   "language": "python",
   "name": "python3"
  },
  "language_info": {
   "codemirror_mode": {
    "name": "ipython",
    "version": 3
   },
   "file_extension": ".py",
   "mimetype": "text/x-python",
   "name": "python",
   "nbconvert_exporter": "python",
   "pygments_lexer": "ipython3",
   "version": "3.8.5"
  }
 },
 "nbformat": 4,
 "nbformat_minor": 4
}
