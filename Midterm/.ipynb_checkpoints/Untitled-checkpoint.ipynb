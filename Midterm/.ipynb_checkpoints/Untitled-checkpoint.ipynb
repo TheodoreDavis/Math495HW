{
 "cells": [
  {
   "cell_type": "markdown",
   "metadata": {},
   "source": [
    "**Problem 1.**"
   ]
  },
  {
   "cell_type": "code",
   "execution_count": 1,
   "metadata": {},
   "outputs": [],
   "source": [
    "import pandas as pd\n",
    "import numpy as np\n",
    "\n",
    "rawData = pd.read_csv('diabetes.csv')"
   ]
  },
  {
   "cell_type": "code",
   "execution_count": 2,
   "metadata": {},
   "outputs": [
    {
     "data": {
      "text/plain": [
       "Pregnancies                 0\n",
       "Glucose                     0\n",
       "BloodPressure               0\n",
       "SkinThickness               0\n",
       "Insulin                     0\n",
       "BMI                         0\n",
       "DiabetesPedigreeFunction    0\n",
       "Age                         0\n",
       "Outcome                     0\n",
       "dtype: int64"
      ]
     },
     "execution_count": 2,
     "metadata": {},
     "output_type": "execute_result"
    }
   ],
   "source": [
    "rawData.isna().sum()"
   ]
  },
  {
   "cell_type": "markdown",
   "metadata": {},
   "source": [
    "-No null values, so no need to remove anything."
   ]
  },
  {
   "cell_type": "code",
   "execution_count": 3,
   "metadata": {},
   "outputs": [
    {
     "data": {
      "text/plain": [
       "Pregnancies                   int64\n",
       "Glucose                       int64\n",
       "BloodPressure                 int64\n",
       "SkinThickness                 int64\n",
       "Insulin                       int64\n",
       "BMI                         float64\n",
       "DiabetesPedigreeFunction    float64\n",
       "Age                           int64\n",
       "Outcome                       int64\n",
       "dtype: object"
      ]
     },
     "execution_count": 3,
     "metadata": {},
     "output_type": "execute_result"
    }
   ],
   "source": [
    "rawData.dtypes"
   ]
  },
  {
   "cell_type": "markdown",
   "metadata": {},
   "source": [
    "-Double checking with the actual file the names and data types are all correct."
   ]
  },
  {
   "cell_type": "code",
   "execution_count": 4,
   "metadata": {},
   "outputs": [
    {
     "data": {
      "text/plain": [
       "Pregnancies                 111\n",
       "Glucose                       5\n",
       "BloodPressure                35\n",
       "SkinThickness               227\n",
       "Insulin                     374\n",
       "BMI                          11\n",
       "DiabetesPedigreeFunction      0\n",
       "Age                           0\n",
       "Outcome                     500\n",
       "dtype: int64"
      ]
     },
     "execution_count": 4,
     "metadata": {},
     "output_type": "execute_result"
    }
   ],
   "source": [
    "(~rawData.astype(bool)).sum()"
   ]
  },
  {
   "cell_type": "code",
   "execution_count": 5,
   "metadata": {},
   "outputs": [
    {
     "data": {
      "text/plain": [
       "Pregnancies                  99\n",
       "Glucose                       0\n",
       "BloodPressure                 0\n",
       "SkinThickness               192\n",
       "Insulin                     332\n",
       "BMI                           0\n",
       "DiabetesPedigreeFunction      0\n",
       "Age                           0\n",
       "Outcome                     475\n",
       "dtype: int64"
      ]
     },
     "execution_count": 5,
     "metadata": {},
     "output_type": "execute_result"
    }
   ],
   "source": [
    "eData = rawData[rawData.Glucose != 0]\n",
    "eData = eData[eData.BloodPressure != 0]\n",
    "eData = eData[eData.BMI != 0]\n",
    "(~eData.astype(bool)).sum()"
   ]
  },
  {
   "cell_type": "code",
   "execution_count": 6,
   "metadata": {},
   "outputs": [
    {
     "name": "stdout",
     "output_type": "stream",
     "text": [
      "(724, 9)\n",
      "~~~~~~~~~~~~~~~~~~~~~~~~~~~~~~~~~~~~~~~\n",
      "       Pregnancies     Glucose  BloodPressure  SkinThickness     Insulin  \\\n",
      "count   724.000000  724.000000     724.000000     724.000000  724.000000   \n",
      "mean      3.866022  121.882597      72.400552      21.443370   84.494475   \n",
      "std       3.362803   30.750030      12.379870      15.732756  117.016513   \n",
      "min       0.000000   44.000000      24.000000       0.000000    0.000000   \n",
      "25%       1.000000   99.750000      64.000000       0.000000    0.000000   \n",
      "50%       3.000000  117.000000      72.000000      24.000000   48.000000   \n",
      "75%       6.000000  142.000000      80.000000      33.000000  130.500000   \n",
      "max      17.000000  199.000000     122.000000      99.000000  846.000000   \n",
      "\n",
      "              BMI  DiabetesPedigreeFunction         Age     Outcome  \n",
      "count  724.000000                724.000000  724.000000  724.000000  \n",
      "mean    32.467127                  0.474765   33.350829    0.343923  \n",
      "std      6.888941                  0.332315   11.765393    0.475344  \n",
      "min     18.200000                  0.078000   21.000000    0.000000  \n",
      "25%     27.500000                  0.245000   24.000000    0.000000  \n",
      "50%     32.400000                  0.379000   29.000000    0.000000  \n",
      "75%     36.600000                  0.627500   41.000000    1.000000  \n",
      "max     67.100000                  2.420000   81.000000    1.000000  \n"
     ]
    }
   ],
   "source": [
    "print(eData.shape)\n",
    "print('~~~~~~~~~~~~~~~~~~~~~~~~~~~~~~~~~~~~~~~')\n",
    "print(eData.describe())"
   ]
  },
  {
   "cell_type": "markdown",
   "metadata": {},
   "source": [
    "**Problem 2.**"
   ]
  },
  {
   "cell_type": "code",
   "execution_count": 7,
   "metadata": {},
   "outputs": [
    {
     "name": "stdout",
     "output_type": "stream",
     "text": [
      "37 prediabetic obease women\n",
      "\n",
      "     Pregnancies  Glucose  BloodPressure  SkinThickness  Insulin   BMI  \\\n",
      "40             3      180             64             25       70  34.0   \n",
      "54             7      150             66             42      342  34.7   \n",
      "58             0      146             82              0        0  40.5   \n",
      "95             6      144             72             27      228  33.9   \n",
      "144            4      154             62             31      284  32.8   \n",
      "148            5      147             78              0        0  33.7   \n",
      "153            1      153             82             42      485  40.6   \n",
      "166            3      148             66             25        0  32.5   \n",
      "178            5      143             78              0        0  45.0   \n",
      "211            0      147             85             54        0  42.8   \n",
      "212            7      179             95             31        0  34.2   \n",
      "228            4      197             70             39      744  36.7   \n",
      "244            2      146             76             35      194  38.2   \n",
      "247            0      165             90             33      680  52.3   \n",
      "260            3      191             68             15      130  30.9   \n",
      "263            3      142             80             15        0  32.4   \n",
      "286            5      155             84             44      545  38.7   \n",
      "295            6      151             62             31      120  35.5   \n",
      "327           10      179             70              0        0  35.1   \n",
      "335            0      165             76             43      255  47.9   \n",
      "364            4      147             74             25      293  34.9   \n",
      "412            1      143             84             23      310  42.4   \n",
      "436           12      140             85             33        0  37.4   \n",
      "469            6      154             78             41      140  46.1   \n",
      "470            1      144             82             40        0  41.3   \n",
      "487            0      173             78             32      265  46.5   \n",
      "548            1      164             82             43       67  32.8   \n",
      "568            4      154             72             29      126  31.3   \n",
      "574            1      143             86             30      330  30.1   \n",
      "608            0      152             82             39      272  41.5   \n",
      "622            6      183             94              0        0  40.8   \n",
      "645            2      157             74             35      440  39.4   \n",
      "669            9      154             78             30      100  30.9   \n",
      "670            6      165             68             26      168  33.6   \n",
      "710            3      158             64             13      387  31.2   \n",
      "727            0      141             84             26        0  32.4   \n",
      "744           13      153             88             37      140  40.6   \n",
      "\n",
      "     DiabetesPedigreeFunction  Age  Outcome  \n",
      "40                      0.271   26        0  \n",
      "54                      0.718   42        0  \n",
      "58                      1.781   44        0  \n",
      "95                      0.255   40        0  \n",
      "144                     0.237   23        0  \n",
      "148                     0.218   65        0  \n",
      "153                     0.687   23        0  \n",
      "166                     0.256   22        0  \n",
      "178                     0.190   47        0  \n",
      "211                     0.375   24        0  \n",
      "212                     0.164   60        0  \n",
      "228                     2.329   31        0  \n",
      "244                     0.329   29        0  \n",
      "247                     0.427   23        0  \n",
      "260                     0.299   34        0  \n",
      "263                     0.200   63        0  \n",
      "286                     0.619   34        0  \n",
      "295                     0.692   28        0  \n",
      "327                     0.200   37        0  \n",
      "335                     0.259   26        0  \n",
      "364                     0.385   30        0  \n",
      "412                     1.076   22        0  \n",
      "436                     0.244   41        0  \n",
      "469                     0.571   27        0  \n",
      "470                     0.607   28        0  \n",
      "487                     1.159   58        0  \n",
      "548                     0.341   50        0  \n",
      "568                     0.338   37        0  \n",
      "574                     0.892   23        0  \n",
      "608                     0.270   27        0  \n",
      "622                     1.461   45        0  \n",
      "645                     0.134   30        0  \n",
      "669                     0.164   45        0  \n",
      "670                     0.631   49        0  \n",
      "710                     0.295   24        0  \n",
      "727                     0.433   22        0  \n",
      "744                     1.174   39        0  \n"
     ]
    }
   ],
   "source": [
    "selectWomen = eData[eData.BMI > 30]\n",
    "selectWomen = selectWomen[selectWomen.Outcome == 0]\n",
    "selectWomen = selectWomen[selectWomen.Glucose <= 199]\n",
    "selectWomen = selectWomen[selectWomen.Glucose >= 140]\n",
    "\n",
    "print(len(selectWomen), 'prediabetic obease women')\n",
    "print()\n",
    "print(selectWomen)"
   ]
  },
  {
   "cell_type": "code",
   "execution_count": 8,
   "metadata": {},
   "outputs": [
    {
     "data": {
      "text/plain": [
       "<matplotlib.collections.PathCollection at 0x1903e4bcca0>"
      ]
     },
     "execution_count": 8,
     "metadata": {},
     "output_type": "execute_result"
    },
    {
     "data": {
      "image/png": "[encoded data removed]",
      "text/plain": [
       "<Figure size 432x288 with 1 Axes>"
      ]
     },
     "metadata": {
      "needs_background": "light"
     },
     "output_type": "display_data"
    }
   ],
   "source": [
    "import matplotlib.pyplot as plt\n",
    "\n",
    "plt.scatter(selectWomen.Glucose, selectWomen.BMI)"
   ]
  },
  {
   "cell_type": "markdown",
   "metadata": {},
   "source": [
    "**Problem 3. also need to finish 2**"
   ]
  },
  {
   "cell_type": "code",
   "execution_count": 12,
   "metadata": {},
   "outputs": [],
   "source": [
    "underweight  = (eData.BMI < 18.5)\n",
    "normalweight = (eData.BMI < 25) & ~underweight\n",
    "overweight   = (eData.BMI < 30) & ~underweight & ~normalweight\n",
    "obese        = (eData.BMI >= 30)\n",
    "\n",
    "eData.loc[underweight, 'Weight'] = 'underweight'\n",
    "eData.loc[normalweight, 'Weight'] = 'normalweight'\n",
    "eData.loc[overweight, 'Weight'] = 'overweight'\n",
    "eData.loc[obese, 'Weight'] = 'obese'\n",
    "\n",
    "normal = eData.BloodPressure <= 80\n",
    "stage2hypertension = eData.BloodPressure > 89\n",
    "stage1hypertension = ~(normal | stage2hypertension)\n",
    "\n",
    "eData.loc[normal, 'BPclass'] = 'normal'\n",
    "eData.loc[stage1hypertension, 'BPclass'] = 'stage1hypertension'\n",
    "eData.loc[stage2hypertension, 'BPclass'] = 'stage2hypertension'\n",
    "\n",
    "eData.to_csv('data.csv')"
   ]
  },
  {
   "cell_type": "code",
   "execution_count": 16,
   "metadata": {},
   "outputs": [
    {
     "name": "stdout",
     "output_type": "stream",
     "text": [
      "4 underweight women\n",
      "96 nomralweight women\n",
      "171 overweight women\n",
      "453 obese women\n"
     ]
    }
   ],
   "source": [
    "print(len(eData[underweight]), 'underweight women')\n",
    "print(len(eData[normalweight]), 'nomralweight women')\n",
    "print(len(eData[overweight]), 'overweight women')\n",
    "print(len(eData[obese]), 'obese women')"
   ]
  },
  {
   "cell_type": "code",
   "execution_count": 21,
   "metadata": {},
   "outputs": [
    {
     "name": "stdout",
     "output_type": "stream",
     "text": [
      "The total number of women is 724 then there must be at least 181 women in a certain catagory of Weight.\n"
     ]
    }
   ],
   "source": [
    "import math\n",
    "print('Since the total number of women is', len(eData), 'then there must be at least', math.ceil(len(eData)/4), 'women in a certain catagory of Weight.')"
   ]
  },
  {
   "cell_type": "code",
   "execution_count": 18,
   "metadata": {},
   "outputs": [
    {
     "name": "stdout",
     "output_type": "stream",
     "text": [
      "561 women with normal blood pressure\n",
      "104 women with stage 1 hypertension\n",
      "59 women with stage 2 hypertension\n"
     ]
    }
   ],
   "source": [
    "print(len(eData[normal]), 'women with normal blood pressure')\n",
    "print(len(eData[stage1hypertension]), 'women with stage 1 hypertension')\n",
    "print(len(eData[stage2hypertension]), 'women with stage 2 hypertension')"
   ]
  },
  {
   "cell_type": "code",
   "execution_count": 22,
   "metadata": {},
   "outputs": [
    {
     "name": "stdout",
     "output_type": "stream",
     "text": [
      "The total number of women is 724 then there must be at least 242 women in a certain catagory of BPclass.\n"
     ]
    }
   ],
   "source": [
    "print('since the total number of women is', len(eData), 'then there must be at least', math.ceil(len(eData)/3), 'women in a certain catagory of BPclass.')"
   ]
  },
  {
   "cell_type": "markdown",
   "metadata": {},
   "source": [
    "**Problem 4.**"
   ]
  },
  {
   "cell_type": "code",
   "execution_count": 46,
   "metadata": {},
   "outputs": [
    {
     "data": {
      "image/png": "[encoded data removed]",
      "text/plain": [
       "<Figure size 432x288 with 1 Axes>"
      ]
     },
     "metadata": {
      "needs_background": "light"
     },
     "output_type": "display_data"
    }
   ],
   "source": [
    "#not sure if this is stable code, pivot_table may not return an aplhabetized list and it just so happend to work here\n",
    "weightCatagories = sorted(eData.Weight.unique())\n",
    "peoplePerWeight = eData.pivot_table(index='Weight', aggfunc='size')\n",
    "barGraph = plt.bar(weightCatagories, peoplePerWeight, color='navy', label='number of people')\n",
    "barGraph.set_label('num')\n",
    "plt.show()"
   ]
  },
  {
   "cell_type": "code",
   "execution_count": 37,
   "metadata": {},
   "outputs": [
    {
     "data": {
      "text/plain": [
       "([<matplotlib.patches.Wedge at 0x1903f1696d0>,\n",
       "  <matplotlib.patches.Wedge at 0x1903f1cceb0>,\n",
       "  <matplotlib.patches.Wedge at 0x190402c7730>],\n",
       " [Text(-0.8361364788573111, 0.7147557545932018, 'normal'),\n",
       "  Text(0.6278893903209763, -0.9031915154176068, 'stage1hypertension'),\n",
       "  Text(1.0641477726431223, -0.2785489507764873, 'stage2hypertension')])"
      ]
     },
     "execution_count": 37,
     "metadata": {},
     "output_type": "execute_result"
    },
    {
     "data": {
      "image/png": "[encoded data removed]",
      "text/plain": [
       "<Figure size 432x288 with 1 Axes>"
      ]
     },
     "metadata": {},
     "output_type": "display_data"
    }
   ],
   "source": [
    "BPCatagories = sorted(eData.BPclass.unique())\n",
    "peoplePerBP = eData.pivot_table(index='BPclass', aggfunc='size')\n",
    "plt.pie(peoplePerBP, labels=BPCatagories)"
   ]
  },
  {
   "cell_type": "code",
   "execution_count": 39,
   "metadata": {},
   "outputs": [
    {
     "data": {
      "text/plain": [
       "(array([280., 146.,  88.,  80.,  52.,  33.,  26.,  16.,   2.,   1.]),\n",
       " array([21., 27., 33., 39., 45., 51., 57., 63., 69., 75., 81.]),\n",
       " <a list of 10 Patch objects>)"
      ]
     },
     "execution_count": 39,
     "metadata": {},
     "output_type": "execute_result"
    },
    {
     "data": {
      "image/png": "[encoded data removed]",
      "text/plain": [
       "<Figure size 432x288 with 1 Axes>"
      ]
     },
     "metadata": {
      "needs_background": "light"
     },
     "output_type": "display_data"
    }
   ],
   "source": [
    "plt.hist(eData.Age, color='red')"
   ]
  },
  {
   "cell_type": "code",
   "execution_count": null,
   "metadata": {},
   "outputs": [],
   "source": []
  }
 ],
 "metadata": {
  "kernelspec": {
   "display_name": "Python 3",
   "language": "python",
   "name": "python3"
  },
  "language_info": {
   "codemirror_mode": {
    "name": "ipython",
    "version": 3
   },
   "file_extension": ".py",
   "mimetype": "text/x-python",
   "name": "python",
   "nbconvert_exporter": "python",
   "pygments_lexer": "ipython3",
   "version": "3.8.3"
  }
 },
 "nbformat": 4,
 "nbformat_minor": 4
}
