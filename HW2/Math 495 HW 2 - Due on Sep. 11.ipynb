{
 "cells": [
  {
   "cell_type": "markdown",
   "metadata": {},
   "source": [
    "## Instructions"
   ]
  },
  {
   "cell_type": "markdown",
   "metadata": {},
   "source": [
    "1) Start the first cell with your name, HWnumber, etc. For example, HW2_solutions_basnet.\n",
    "\n",
    "2) After you finish the HW, click File on the top left and click \"download as.\" You will see many options. Please save the file as .ipynb and .html file.\n",
    "\n",
    "3) To submit HW solutions, go to our course in Canvas --> Assignments --> HW 2 --> Submit Assignment --> Click \"Chose file\" --> choose HTML file you saved --> Click another file--> choose ipynb file--submit. Once you submit, download  and check to make sure that you have submitted the correct files.\n",
    "\n",
    "4) Your submission will be compared against other student's solutions and online databases to check plagiarism.\n",
    "\n",
    "5) You can use this ipynb file to start your solution.\n"
   ]
  },
  {
   "cell_type": "markdown",
   "metadata": {},
   "source": [
    "#### Each problem is worth 10 points."
   ]
  },
  {
   "cell_type": "code",
   "execution_count": 1,
   "metadata": {},
   "outputs": [],
   "source": [
    "#import packages\n",
    "import pandas as pd\n",
    "import numpy as np"
   ]
  },
  {
   "cell_type": "markdown",
   "metadata": {},
   "source": [
    "### Problem 1. \n",
    "Fibonacci Sequence in it's recursive form is given by $F_n= F_{n-1}+ F_{n-2}, F_0= 0, F_1=1$. List all the vlaues of  $F_n$ for $n= 1, 2, 3,\\cdots\\cdot\\cdots, 1000.$ What is the value of $F_{1000}$?. Please use python and Jupyter notebook intead of writing some complicated code with multiple conditionals and loops. Read more about these numbers here http://www.eniscuola.net/en/2016/06/27/the-numbers-of-nature-the-fibonacci-sequence/."
   ]
  },
  {
   "cell_type": "markdown",
   "metadata": {},
   "source": [
    "### Problem 2. \n",
    "Upload the grbooks CSV data and find out which variables have how many null values. Remove variable(s) that have any null values. Also remove columns: author_genres, author_id, author_page_url, book_fullurl, book_id, and genre_2. Name this new data frame as \"books\". Print the data dimension, use the dtypes function in pandas to know which variable is of what type ( Numbes or objects), and finally use the describe function to summarize the data. Follow this link https://www.kaggle.com/jealousleopard/goodreadsbooks and read more about this good read book data set from Kaggle. kaggle is a very popular data science competition platform, and it is a good resource for any budding Data Scientist."
   ]
  },
  {
   "cell_type": "markdown",
   "metadata": {},
   "source": [
    "Problems 3, 4 and 5 use only few columns of the data. Find out which ones are used and create a new data set with only those columns and work on it."
   ]
  },
  {
   "cell_type": "markdown",
   "metadata": {},
   "source": [
    "### Problem 3. \n",
    "In the books data set, there a few columns that have entries with $\\text{\\n}$ notation. Find these columns and remove $\\text{\\n}$ from all the column entries using regular expressions.  Read more about handling strings and regular expressions here. https://pandas.pydata.org/pandas-docs/stable/user_guide/text.html, https://www.geeksforgeeks.org/replace-values-in-pandas-dataframe-using-regex/\n",
    ", and here https://docs.python.org/2/library/re.html."
   ]
  },
  {
   "cell_type": "markdown",
   "metadata": {},
   "source": [
    "### Problem 4. \n",
    "Continuing with the dataset you got in problem 3, look at the author_name column. This column contains names, some of which have middle names, some have just a letter and a dot as a middle name, and some do not have a middle name. Use regular expressions to remove all the middle names, so that column value displays only the first and last name."
   ]
  },
  {
   "cell_type": "markdown",
   "metadata": {},
   "source": [
    "### Problem 5. \n",
    "Continuing with problem 4, use the author_name column from problem 4 to create a new column with an email address in the form lastname_firstname@gmail.com. Print the head of the data."
   ]
  },
  {
   "cell_type": "markdown",
   "metadata": {},
   "source": [
    "### Problem 6. \n",
    "Sometimes data comes too much structured, revealing some patterns and hiding others that are not obvious. A data frame with randomized indices is often considered better than already structured data to apply machine learning algorithms. Use random permutation function in numpy to randomize the rows and find a randomized version of the data frame books. Some info about this function is here.\n",
    "\n",
    "https://docs.scipy.org/doc/numpy-1.15.0/reference/generated/numpy.random.permutation.html. You will also need a function called take function. https://pandas.pydata.org/pandas-docs/stable/reference/api/pandas.DataFrame.take.html\n"
   ]
  },
  {
   "cell_type": "markdown",
   "metadata": {},
   "source": [
    "### Problem 7. \n",
    "Find out how many unique author_id is present in the data. Also, find out how many unique genre_1 are in the data. Then apply the Pigeonhole principle to complete the following sentence."
   ]
  },
  {
   "cell_type": "markdown",
   "metadata": {},
   "source": [
    "There are at least $______$ genres containing $_______$ or more authors."
   ]
  },
  {
   "cell_type": "markdown",
   "metadata": {},
   "source": [
    "### Problem 8. \n",
    "Using the score column, create a column called new_score that will have a score out of 5. For this, apply the formula  $\\text{new_score} = \\dfrac{\\text{score}}{\\text{max(score)}}\\times 5$. Print the description of this new colum using describe function."
   ]
  },
  {
   "cell_type": "markdown",
   "metadata": {},
   "source": [
    "### Problem 9.\n",
    "We now have 3 columns representing ratings out of 5, namely author_average_rating, book_average_rating, and a new_score we just created in problem 8. Let's create a super_score column, which uses all the three columns with rating scores out of 5. Give 24%, 34%, and 42% weights to each of the columns: author_average_rating, book_average_rating, and a new_score respectively, to create the super_score column values that are also out of 5. Now use the describe function to show the details of this new column."
   ]
  },
  {
   "cell_type": "markdown",
   "metadata": {},
   "source": [
    "### Problem 10.\n",
    "Use the super_score column to find out how many unique authors have a super_score of 3.9 or more. Let's call these authors super authors. How many committees of 3 super authors can we create?"
   ]
  }
 ],
 "metadata": {
  "kernelspec": {
   "display_name": "Python 3",
   "language": "python",
   "name": "python3"
  },
  "language_info": {
   "codemirror_mode": {
    "name": "ipython",
    "version": 3
   },
   "file_extension": ".py",
   "mimetype": "text/x-python",
   "name": "python",
   "nbconvert_exporter": "python",
   "pygments_lexer": "ipython3",
   "version": "3.8.3"
  }
 },
 "nbformat": 4,
 "nbformat_minor": 2
}
