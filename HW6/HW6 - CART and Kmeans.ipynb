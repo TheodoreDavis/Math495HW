{
 "cells": [
  {
   "cell_type": "markdown",
   "metadata": {},
   "source": [
    "\n",
    "### This HW is due on  11/17/2020 at 11:59 pm CST. This is also the last HW in this class.\n"
   ]
  },
  {
   "cell_type": "markdown",
   "metadata": {},
   "source": [
    "You will be working with the movie data downloaded from here https://www.kaggle.com/karrrimba/movie-metadatacsv. Please follow the link and read more about it."
   ]
  },
  {
   "cell_type": "markdown",
   "metadata": {},
   "source": [
    "### Problem 1 [30]\n",
    "Upload the movie data and do all the preliminary data analyses, such as finding and dealing with missing values, checking and correcting variable labels as numerical or categorical, etc. Our goal here is to train a CART classification model. Find the features you want to use. Use techniques we have learned in this class to select features that are important for a model. Here imdb_score is the dependent variable, but it has continuous values. To use a classification algorithm for this data, define a  new variable called 'imdb_labels' using 'imdb_score' in the following way.\n",
    "\n",
    "imdb_score $\\geq 8$ - excellent,\n",
    "\n",
    "$6\\leq$ imdb_score $<8$ - good,\n",
    "\n",
    "$4\\leq$ imdb_score $<6$ - average,\n",
    "\n",
    "$2\\leq$ imdb_score $<4$ - mediocre,\n",
    "\n",
    " imdb_score $<2$ - bad,\n",
    " \n",
    "By dividing the data to test and train with a 70, 30 rule, train a CART classification model. Report the accuracy of the test data set, the confusion matrix, and the confusion matrix's heatmap plot. Please note that one of the major factors in grading this problem is your accuracy score on a test data set, so do what you can to raise it as high as possible."
   ]
  },
  {
   "cell_type": "markdown",
   "metadata": {},
   "source": [
    "### Problem 2 [15]\n",
    "Find out what the Gini Index and Gini impurity for a CART model is. You will have to do your research on this. Write a paragraph about these two terms and find out the Gini Index and Gini Impurity of the model you created in problem 1."
   ]
  },
  {
   "cell_type": "markdown",
   "metadata": {},
   "source": [
    "### Problme 3 [30]\n",
    "Use the data you used in the final model in problem 1 for this problem. You will train a KMeans clustering model in this problem. Remove the imdb_score and imdb_labels as you do not need a dependent variable for the clustering model. Train the KMeans model (no need to split in test and train) and find 4 clusters. The clustering algorithm finds clusters, and you do not need to worry about the accuracy score here (needs more advanced concepts). Find a pair of variables ( x and y) among the ones you used for the KMeans model and plot 4 clusters with 4 different colors. Try various x and y  before settling on a graph that clearly shows 4 clusters on the graph.  Here is a reference material on KMeans from one of the reference textbooks we use. https://jakevdp.github.io/PythonDataScienceHandbook/05.11-k-means.html"
   ]
  },
  {
   "cell_type": "markdown",
   "metadata": {},
   "source": [
    "## Problem 4 [15]\n",
    "What are the four centers for the four clusters? Find Euclidean and Manhattan distances between each pair using python."
   ]
  },
  {
   "cell_type": "markdown",
   "metadata": {},
   "source": [
    "## Problem 5 [10]\n",
    "Plot the decision boundary from the KMeans algorithm in problem 3. You are separating four clusters by lines in this problem. Some hints are here. https://datascience.stackexchange.com/questions/53918/is-there-a-way-to-put-a-separate-line-between-clusters-for-k-means-clustering"
   ]
  }
 ],
 "metadata": {
  "kernelspec": {
   "display_name": "Python 3",
   "language": "python",
   "name": "python3"
  },
  "language_info": {
   "codemirror_mode": {
    "name": "ipython",
    "version": 3
   },
   "file_extension": ".py",
   "mimetype": "text/x-python",
   "name": "python",
   "nbconvert_exporter": "python",
   "pygments_lexer": "ipython3",
   "version": "3.8.5"
  }
 },
 "nbformat": 4,
 "nbformat_minor": 2
}
