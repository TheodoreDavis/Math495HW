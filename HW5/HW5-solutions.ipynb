{
 "cells": [
  {
   "cell_type": "markdown",
   "metadata": {},
   "source": [
    "# HW5 solutions\n",
    "\n",
    "- [problem 1.](#p1)\n",
    " - [filtering training data](#filtering-training-data)\n",
    " - [final training data](#final-training-data)\n",
    " - [problem 1. summary](#p1-summary)\n",
    "- [problem 2.](#p2)\n",
    " - [filtering training data](#filtering-training-data2)\n",
    " - [final training data](#final-training-data2)\n",
    " - [problem 2. summary](#p2-summary)\n",
    "- [problem 3.](#p3)\n",
    "Note: I didn't attempt problem 3.\n",
    "\n",
    "## Problem 1. <a id=\"p1\"></a>\n",
    "\n",
    "\n",
    "### filtering training data <a id=\"filtering-training-data\"></a>"
   ]
  },
  {
   "cell_type": "code",
   "execution_count": 1,
   "metadata": {},
   "outputs": [
    {
     "data": {
      "text/plain": [
       "car_ID                int64\n",
       "symboling             int64\n",
       "CarName              object\n",
       "fueltype             object\n",
       "aspiration           object\n",
       "doornumber           object\n",
       "carbody              object\n",
       "drivewheel           object\n",
       "enginelocation       object\n",
       "wheelbase           float64\n",
       "carlength           float64\n",
       "carwidth            float64\n",
       "carheight           float64\n",
       "curbweight            int64\n",
       "enginetype           object\n",
       "cylindernumber       object\n",
       "enginesize            int64\n",
       "fuelsystem           object\n",
       "boreratio           float64\n",
       "stroke              float64\n",
       "compressionratio    float64\n",
       "horsepower            int64\n",
       "peakrpm               int64\n",
       "citympg               int64\n",
       "highwaympg            int64\n",
       "price               float64\n",
       "dtype: object"
      ]
     },
     "execution_count": 1,
     "metadata": {},
     "output_type": "execute_result"
    }
   ],
   "source": [
    "import pandas as pd\n",
    "import numpy as np\n",
    "import matplotlib as mpt\n",
    "import matplotlib.pyplot as plt\n",
    "import seaborn as sns\n",
    "import statsmodels.api as sm\n",
    "\n",
    "cData = pd.read_csv('carprice.csv')\n",
    "\n",
    "#print dtypes of columns to filter for numerical comulmns\n",
    "cData.dtypes"
   ]
  },
  {
   "cell_type": "code",
   "execution_count": 2,
   "metadata": {},
   "outputs": [
    {
     "name": "stdout",
     "output_type": "stream",
     "text": [
      "['wheelbase', 'carlength', 'carwidth', 'carheight', 'curbweight', 'boreratio', 'stroke', 'compressionratio', 'horsepower', 'peakrpm', 'citympg', 'highwaympg', 'enginesize', 'symboling']\n"
     ]
    }
   ],
   "source": [
    "#ignoring car_ID and price and add everything to a filter that isn't an object.\n",
    "filt = list(cData.columns[9:14])\n",
    "filt += list(cData.columns[18:25])\n",
    "filt += [cData.columns[16]]\n",
    "filt += [cData.columns[1]]\n",
    "print(filt)"
   ]
  },
  {
   "cell_type": "code",
   "execution_count": 3,
   "metadata": {},
   "outputs": [
    {
     "data": {
      "text/html": [
       "<div>\n",
       "<style scoped>\n",
       "    .dataframe tbody tr th:only-of-type {\n",
       "        vertical-align: middle;\n",
       "    }\n",
       "\n",
       "    .dataframe tbody tr th {\n",
       "        vertical-align: top;\n",
       "    }\n",
       "\n",
       "    .dataframe thead th {\n",
       "        text-align: right;\n",
       "    }\n",
       "</style>\n",
       "<table border=\"1\" class=\"dataframe\">\n",
       "  <thead>\n",
       "    <tr style=\"text-align: right;\">\n",
       "      <th></th>\n",
       "      <th>wheelbase</th>\n",
       "      <th>carlength</th>\n",
       "      <th>carwidth</th>\n",
       "      <th>carheight</th>\n",
       "      <th>curbweight</th>\n",
       "      <th>boreratio</th>\n",
       "      <th>stroke</th>\n",
       "      <th>compressionratio</th>\n",
       "      <th>horsepower</th>\n",
       "      <th>peakrpm</th>\n",
       "      <th>citympg</th>\n",
       "      <th>highwaympg</th>\n",
       "      <th>enginesize</th>\n",
       "      <th>symboling</th>\n",
       "    </tr>\n",
       "  </thead>\n",
       "  <tbody>\n",
       "    <tr>\n",
       "      <th>0</th>\n",
       "      <td>88.6</td>\n",
       "      <td>168.8</td>\n",
       "      <td>64.1</td>\n",
       "      <td>48.8</td>\n",
       "      <td>2548</td>\n",
       "      <td>3.47</td>\n",
       "      <td>2.68</td>\n",
       "      <td>9.0</td>\n",
       "      <td>111</td>\n",
       "      <td>5000</td>\n",
       "      <td>21</td>\n",
       "      <td>27</td>\n",
       "      <td>130</td>\n",
       "      <td>3</td>\n",
       "    </tr>\n",
       "    <tr>\n",
       "      <th>1</th>\n",
       "      <td>88.6</td>\n",
       "      <td>168.8</td>\n",
       "      <td>64.1</td>\n",
       "      <td>48.8</td>\n",
       "      <td>2548</td>\n",
       "      <td>3.47</td>\n",
       "      <td>2.68</td>\n",
       "      <td>9.0</td>\n",
       "      <td>111</td>\n",
       "      <td>5000</td>\n",
       "      <td>21</td>\n",
       "      <td>27</td>\n",
       "      <td>130</td>\n",
       "      <td>3</td>\n",
       "    </tr>\n",
       "    <tr>\n",
       "      <th>2</th>\n",
       "      <td>94.5</td>\n",
       "      <td>171.2</td>\n",
       "      <td>65.5</td>\n",
       "      <td>52.4</td>\n",
       "      <td>2823</td>\n",
       "      <td>2.68</td>\n",
       "      <td>3.47</td>\n",
       "      <td>9.0</td>\n",
       "      <td>154</td>\n",
       "      <td>5000</td>\n",
       "      <td>19</td>\n",
       "      <td>26</td>\n",
       "      <td>152</td>\n",
       "      <td>1</td>\n",
       "    </tr>\n",
       "    <tr>\n",
       "      <th>3</th>\n",
       "      <td>99.8</td>\n",
       "      <td>176.6</td>\n",
       "      <td>66.2</td>\n",
       "      <td>54.3</td>\n",
       "      <td>2337</td>\n",
       "      <td>3.19</td>\n",
       "      <td>3.40</td>\n",
       "      <td>10.0</td>\n",
       "      <td>102</td>\n",
       "      <td>5500</td>\n",
       "      <td>24</td>\n",
       "      <td>30</td>\n",
       "      <td>109</td>\n",
       "      <td>2</td>\n",
       "    </tr>\n",
       "    <tr>\n",
       "      <th>4</th>\n",
       "      <td>99.4</td>\n",
       "      <td>176.6</td>\n",
       "      <td>66.4</td>\n",
       "      <td>54.3</td>\n",
       "      <td>2824</td>\n",
       "      <td>3.19</td>\n",
       "      <td>3.40</td>\n",
       "      <td>8.0</td>\n",
       "      <td>115</td>\n",
       "      <td>5500</td>\n",
       "      <td>18</td>\n",
       "      <td>22</td>\n",
       "      <td>136</td>\n",
       "      <td>2</td>\n",
       "    </tr>\n",
       "  </tbody>\n",
       "</table>\n",
       "</div>"
      ],
      "text/plain": [
       "   wheelbase  carlength  carwidth  carheight  curbweight  boreratio  stroke  \\\n",
       "0       88.6      168.8      64.1       48.8        2548       3.47    2.68   \n",
       "1       88.6      168.8      64.1       48.8        2548       3.47    2.68   \n",
       "2       94.5      171.2      65.5       52.4        2823       2.68    3.47   \n",
       "3       99.8      176.6      66.2       54.3        2337       3.19    3.40   \n",
       "4       99.4      176.6      66.4       54.3        2824       3.19    3.40   \n",
       "\n",
       "   compressionratio  horsepower  peakrpm  citympg  highwaympg  enginesize  \\\n",
       "0               9.0         111     5000       21          27         130   \n",
       "1               9.0         111     5000       21          27         130   \n",
       "2               9.0         154     5000       19          26         152   \n",
       "3              10.0         102     5500       24          30         109   \n",
       "4               8.0         115     5500       18          22         136   \n",
       "\n",
       "   symboling  \n",
       "0          3  \n",
       "1          3  \n",
       "2          1  \n",
       "3          2  \n",
       "4          2  "
      ]
     },
     "execution_count": 3,
     "metadata": {},
     "output_type": "execute_result"
    }
   ],
   "source": [
    "x = cData[filt]\n",
    "x.head()"
   ]
  },
  {
   "cell_type": "code",
   "execution_count": 4,
   "metadata": {},
   "outputs": [
    {
     "data": {
      "text/html": [
       "<table class=\"simpletable\">\n",
       "<caption>OLS Regression Results</caption>\n",
       "<tr>\n",
       "  <th>Dep. Variable:</th>          <td>price</td>      <th>  R-squared:         </th> <td>   0.852</td>\n",
       "</tr>\n",
       "<tr>\n",
       "  <th>Model:</th>                   <td>OLS</td>       <th>  Adj. R-squared:    </th> <td>   0.841</td>\n",
       "</tr>\n",
       "<tr>\n",
       "  <th>Method:</th>             <td>Least Squares</td>  <th>  F-statistic:       </th> <td>   78.05</td>\n",
       "</tr>\n",
       "<tr>\n",
       "  <th>Date:</th>             <td>Tue, 03 Nov 2020</td> <th>  Prob (F-statistic):</th> <td>7.97e-71</td>\n",
       "</tr>\n",
       "<tr>\n",
       "  <th>Time:</th>                 <td>11:13:49</td>     <th>  Log-Likelihood:    </th> <td> -1936.7</td>\n",
       "</tr>\n",
       "<tr>\n",
       "  <th>No. Observations:</th>      <td>   205</td>      <th>  AIC:               </th> <td>   3903.</td>\n",
       "</tr>\n",
       "<tr>\n",
       "  <th>Df Residuals:</th>          <td>   190</td>      <th>  BIC:               </th> <td>   3953.</td>\n",
       "</tr>\n",
       "<tr>\n",
       "  <th>Df Model:</th>              <td>    14</td>      <th>                     </th>     <td> </td>   \n",
       "</tr>\n",
       "<tr>\n",
       "  <th>Covariance Type:</th>      <td>nonrobust</td>    <th>                     </th>     <td> </td>   \n",
       "</tr>\n",
       "</table>\n",
       "<table class=\"simpletable\">\n",
       "<tr>\n",
       "          <td></td>            <th>coef</th>     <th>std err</th>      <th>t</th>      <th>P>|t|</th>  <th>[0.025</th>    <th>0.975]</th>  \n",
       "</tr>\n",
       "<tr>\n",
       "  <th>const</th>            <td>-5.165e+04</td> <td> 1.57e+04</td> <td>   -3.299</td> <td> 0.001</td> <td>-8.25e+04</td> <td>-2.08e+04</td>\n",
       "</tr>\n",
       "<tr>\n",
       "  <th>wheelbase</th>        <td>  167.6990</td> <td>  107.450</td> <td>    1.561</td> <td> 0.120</td> <td>  -44.250</td> <td>  379.648</td>\n",
       "</tr>\n",
       "<tr>\n",
       "  <th>carlength</th>        <td>  -94.8179</td> <td>   55.502</td> <td>   -1.708</td> <td> 0.089</td> <td> -204.297</td> <td>   14.661</td>\n",
       "</tr>\n",
       "<tr>\n",
       "  <th>carwidth</th>         <td>  466.6185</td> <td>  247.995</td> <td>    1.882</td> <td> 0.061</td> <td>  -22.559</td> <td>  955.796</td>\n",
       "</tr>\n",
       "<tr>\n",
       "  <th>carheight</th>        <td>  194.7522</td> <td>  138.223</td> <td>    1.409</td> <td> 0.160</td> <td>  -77.897</td> <td>  467.402</td>\n",
       "</tr>\n",
       "<tr>\n",
       "  <th>curbweight</th>       <td>    1.8776</td> <td>    1.736</td> <td>    1.082</td> <td> 0.281</td> <td>   -1.546</td> <td>    5.301</td>\n",
       "</tr>\n",
       "<tr>\n",
       "  <th>boreratio</th>        <td> -984.4276</td> <td> 1194.709</td> <td>   -0.824</td> <td> 0.411</td> <td>-3341.025</td> <td> 1372.169</td>\n",
       "</tr>\n",
       "<tr>\n",
       "  <th>stroke</th>           <td>-3056.1620</td> <td>  778.046</td> <td>   -3.928</td> <td> 0.000</td> <td>-4590.881</td> <td>-1521.443</td>\n",
       "</tr>\n",
       "<tr>\n",
       "  <th>compressionratio</th> <td>  286.4752</td> <td>   83.425</td> <td>    3.434</td> <td> 0.001</td> <td>  121.918</td> <td>  451.033</td>\n",
       "</tr>\n",
       "<tr>\n",
       "  <th>horsepower</th>       <td>   32.5014</td> <td>   16.264</td> <td>    1.998</td> <td> 0.047</td> <td>    0.420</td> <td>   64.583</td>\n",
       "</tr>\n",
       "<tr>\n",
       "  <th>peakrpm</th>          <td>    2.3582</td> <td>    0.670</td> <td>    3.518</td> <td> 0.001</td> <td>    1.036</td> <td>    3.680</td>\n",
       "</tr>\n",
       "<tr>\n",
       "  <th>citympg</th>          <td> -286.9397</td> <td>  179.856</td> <td>   -1.595</td> <td> 0.112</td> <td> -641.710</td> <td>   67.831</td>\n",
       "</tr>\n",
       "<tr>\n",
       "  <th>highwaympg</th>       <td>  191.3036</td> <td>  159.902</td> <td>    1.196</td> <td> 0.233</td> <td> -124.108</td> <td>  506.716</td>\n",
       "</tr>\n",
       "<tr>\n",
       "  <th>enginesize</th>       <td>  116.7820</td> <td>   13.831</td> <td>    8.443</td> <td> 0.000</td> <td>   89.500</td> <td>  144.064</td>\n",
       "</tr>\n",
       "<tr>\n",
       "  <th>symboling</th>        <td>  285.8829</td> <td>  243.335</td> <td>    1.175</td> <td> 0.242</td> <td> -194.101</td> <td>  765.867</td>\n",
       "</tr>\n",
       "</table>\n",
       "<table class=\"simpletable\">\n",
       "<tr>\n",
       "  <th>Omnibus:</th>       <td>24.845</td> <th>  Durbin-Watson:     </th> <td>   0.903</td>\n",
       "</tr>\n",
       "<tr>\n",
       "  <th>Prob(Omnibus):</th> <td> 0.000</td> <th>  Jarque-Bera (JB):  </th> <td>  78.581</td>\n",
       "</tr>\n",
       "<tr>\n",
       "  <th>Skew:</th>          <td> 0.412</td> <th>  Prob(JB):          </th> <td>8.64e-18</td>\n",
       "</tr>\n",
       "<tr>\n",
       "  <th>Kurtosis:</th>      <td> 5.919</td> <th>  Cond. No.          </th> <td>4.05e+05</td>\n",
       "</tr>\n",
       "</table><br/><br/>Warnings:<br/>[1] Standard Errors assume that the covariance matrix of the errors is correctly specified.<br/>[2] The condition number is large, 4.05e+05. This might indicate that there are<br/>strong multicollinearity or other numerical problems."
      ],
      "text/plain": [
       "<class 'statsmodels.iolib.summary.Summary'>\n",
       "\"\"\"\n",
       "                            OLS Regression Results                            \n",
       "==============================================================================\n",
       "Dep. Variable:                  price   R-squared:                       0.852\n",
       "Model:                            OLS   Adj. R-squared:                  0.841\n",
       "Method:                 Least Squares   F-statistic:                     78.05\n",
       "Date:                Tue, 03 Nov 2020   Prob (F-statistic):           7.97e-71\n",
       "Time:                        11:13:49   Log-Likelihood:                -1936.7\n",
       "No. Observations:                 205   AIC:                             3903.\n",
       "Df Residuals:                     190   BIC:                             3953.\n",
       "Df Model:                          14                                         \n",
       "Covariance Type:            nonrobust                                         \n",
       "====================================================================================\n",
       "                       coef    std err          t      P>|t|      [0.025      0.975]\n",
       "------------------------------------------------------------------------------------\n",
       "const            -5.165e+04   1.57e+04     -3.299      0.001   -8.25e+04   -2.08e+04\n",
       "wheelbase          167.6990    107.450      1.561      0.120     -44.250     379.648\n",
       "carlength          -94.8179     55.502     -1.708      0.089    -204.297      14.661\n",
       "carwidth           466.6185    247.995      1.882      0.061     -22.559     955.796\n",
       "carheight          194.7522    138.223      1.409      0.160     -77.897     467.402\n",
       "curbweight           1.8776      1.736      1.082      0.281      -1.546       5.301\n",
       "boreratio         -984.4276   1194.709     -0.824      0.411   -3341.025    1372.169\n",
       "stroke           -3056.1620    778.046     -3.928      0.000   -4590.881   -1521.443\n",
       "compressionratio   286.4752     83.425      3.434      0.001     121.918     451.033\n",
       "horsepower          32.5014     16.264      1.998      0.047       0.420      64.583\n",
       "peakrpm              2.3582      0.670      3.518      0.001       1.036       3.680\n",
       "citympg           -286.9397    179.856     -1.595      0.112    -641.710      67.831\n",
       "highwaympg         191.3036    159.902      1.196      0.233    -124.108     506.716\n",
       "enginesize         116.7820     13.831      8.443      0.000      89.500     144.064\n",
       "symboling          285.8829    243.335      1.175      0.242    -194.101     765.867\n",
       "==============================================================================\n",
       "Omnibus:                       24.845   Durbin-Watson:                   0.903\n",
       "Prob(Omnibus):                  0.000   Jarque-Bera (JB):               78.581\n",
       "Skew:                           0.412   Prob(JB):                     8.64e-18\n",
       "Kurtosis:                       5.919   Cond. No.                     4.05e+05\n",
       "==============================================================================\n",
       "\n",
       "Warnings:\n",
       "[1] Standard Errors assume that the covariance matrix of the errors is correctly specified.\n",
       "[2] The condition number is large, 4.05e+05. This might indicate that there are\n",
       "strong multicollinearity or other numerical problems.\n",
       "\"\"\""
      ]
     },
     "execution_count": 4,
     "metadata": {},
     "output_type": "execute_result"
    }
   ],
   "source": [
    "x=sm.add_constant(x)\n",
    "y=cData.price\n",
    "m0=sm.OLS(y,x).fit()\n",
    "m0.summary()"
   ]
  },
  {
   "cell_type": "code",
   "execution_count": 5,
   "metadata": {},
   "outputs": [
    {
     "data": {
      "text/html": [
       "<table class=\"simpletable\">\n",
       "<caption>OLS Regression Results</caption>\n",
       "<tr>\n",
       "  <th>Dep. Variable:</th>          <td>price</td>      <th>  R-squared:         </th> <td>   0.851</td>\n",
       "</tr>\n",
       "<tr>\n",
       "  <th>Model:</th>                   <td>OLS</td>       <th>  Adj. R-squared:    </th> <td>   0.841</td>\n",
       "</tr>\n",
       "<tr>\n",
       "  <th>Method:</th>             <td>Least Squares</td>  <th>  F-statistic:       </th> <td>   84.14</td>\n",
       "</tr>\n",
       "<tr>\n",
       "  <th>Date:</th>             <td>Tue, 03 Nov 2020</td> <th>  Prob (F-statistic):</th> <td>1.19e-71</td>\n",
       "</tr>\n",
       "<tr>\n",
       "  <th>Time:</th>                 <td>11:13:49</td>     <th>  Log-Likelihood:    </th> <td> -1937.1</td>\n",
       "</tr>\n",
       "<tr>\n",
       "  <th>No. Observations:</th>      <td>   205</td>      <th>  AIC:               </th> <td>   3902.</td>\n",
       "</tr>\n",
       "<tr>\n",
       "  <th>Df Residuals:</th>          <td>   191</td>      <th>  BIC:               </th> <td>   3949.</td>\n",
       "</tr>\n",
       "<tr>\n",
       "  <th>Df Model:</th>              <td>    13</td>      <th>                     </th>     <td> </td>   \n",
       "</tr>\n",
       "<tr>\n",
       "  <th>Covariance Type:</th>      <td>nonrobust</td>    <th>                     </th>     <td> </td>   \n",
       "</tr>\n",
       "</table>\n",
       "<table class=\"simpletable\">\n",
       "<tr>\n",
       "          <td></td>            <th>coef</th>     <th>std err</th>      <th>t</th>      <th>P>|t|</th>  <th>[0.025</th>    <th>0.975]</th>  \n",
       "</tr>\n",
       "<tr>\n",
       "  <th>const</th>            <td>-5.561e+04</td> <td> 1.49e+04</td> <td>   -3.735</td> <td> 0.000</td> <td> -8.5e+04</td> <td>-2.62e+04</td>\n",
       "</tr>\n",
       "<tr>\n",
       "  <th>wheelbase</th>        <td>  164.8669</td> <td>  107.305</td> <td>    1.536</td> <td> 0.126</td> <td>  -46.788</td> <td>  376.522</td>\n",
       "</tr>\n",
       "<tr>\n",
       "  <th>carlength</th>        <td>  -99.8999</td> <td>   55.112</td> <td>   -1.813</td> <td> 0.071</td> <td> -208.606</td> <td>    8.806</td>\n",
       "</tr>\n",
       "<tr>\n",
       "  <th>carwidth</th>         <td>  474.6476</td> <td>  247.595</td> <td>    1.917</td> <td> 0.057</td> <td>  -13.725</td> <td>  963.020</td>\n",
       "</tr>\n",
       "<tr>\n",
       "  <th>carheight</th>        <td>  198.7556</td> <td>  138.022</td> <td>    1.440</td> <td> 0.151</td> <td>  -73.487</td> <td>  470.999</td>\n",
       "</tr>\n",
       "<tr>\n",
       "  <th>curbweight</th>       <td>    1.8701</td> <td>    1.734</td> <td>    1.078</td> <td> 0.282</td> <td>   -1.550</td> <td>    5.291</td>\n",
       "</tr>\n",
       "<tr>\n",
       "  <th>stroke</th>           <td>-2935.7037</td> <td>  763.547</td> <td>   -3.845</td> <td> 0.000</td> <td>-4441.770</td> <td>-1429.637</td>\n",
       "</tr>\n",
       "<tr>\n",
       "  <th>compressionratio</th> <td>  284.6182</td> <td>   83.324</td> <td>    3.416</td> <td> 0.001</td> <td>  120.265</td> <td>  448.972</td>\n",
       "</tr>\n",
       "<tr>\n",
       "  <th>horsepower</th>       <td>   29.9826</td> <td>   15.961</td> <td>    1.879</td> <td> 0.062</td> <td>   -1.500</td> <td>   61.465</td>\n",
       "</tr>\n",
       "<tr>\n",
       "  <th>peakrpm</th>          <td>    2.5099</td> <td>    0.644</td> <td>    3.897</td> <td> 0.000</td> <td>    1.240</td> <td>    3.780</td>\n",
       "</tr>\n",
       "<tr>\n",
       "  <th>citympg</th>          <td> -274.2504</td> <td>  179.045</td> <td>   -1.532</td> <td> 0.127</td> <td> -627.409</td> <td>   78.908</td>\n",
       "</tr>\n",
       "<tr>\n",
       "  <th>highwaympg</th>       <td>  187.1856</td> <td>  159.690</td> <td>    1.172</td> <td> 0.243</td> <td> -127.797</td> <td>  502.168</td>\n",
       "</tr>\n",
       "<tr>\n",
       "  <th>enginesize</th>       <td>  117.0985</td> <td>   13.814</td> <td>    8.477</td> <td> 0.000</td> <td>   89.851</td> <td>  144.346</td>\n",
       "</tr>\n",
       "<tr>\n",
       "  <th>symboling</th>        <td>  288.4739</td> <td>  243.110</td> <td>    1.187</td> <td> 0.237</td> <td> -191.051</td> <td>  767.999</td>\n",
       "</tr>\n",
       "</table>\n",
       "<table class=\"simpletable\">\n",
       "<tr>\n",
       "  <th>Omnibus:</th>       <td>24.380</td> <th>  Durbin-Watson:     </th> <td>   0.896</td>\n",
       "</tr>\n",
       "<tr>\n",
       "  <th>Prob(Omnibus):</th> <td> 0.000</td> <th>  Jarque-Bera (JB):  </th> <td>  70.593</td>\n",
       "</tr>\n",
       "<tr>\n",
       "  <th>Skew:</th>          <td> 0.438</td> <th>  Prob(JB):          </th> <td>4.69e-16</td>\n",
       "</tr>\n",
       "<tr>\n",
       "  <th>Kurtosis:</th>      <td> 5.738</td> <th>  Cond. No.          </th> <td>3.85e+05</td>\n",
       "</tr>\n",
       "</table><br/><br/>Warnings:<br/>[1] Standard Errors assume that the covariance matrix of the errors is correctly specified.<br/>[2] The condition number is large, 3.85e+05. This might indicate that there are<br/>strong multicollinearity or other numerical problems."
      ],
      "text/plain": [
       "<class 'statsmodels.iolib.summary.Summary'>\n",
       "\"\"\"\n",
       "                            OLS Regression Results                            \n",
       "==============================================================================\n",
       "Dep. Variable:                  price   R-squared:                       0.851\n",
       "Model:                            OLS   Adj. R-squared:                  0.841\n",
       "Method:                 Least Squares   F-statistic:                     84.14\n",
       "Date:                Tue, 03 Nov 2020   Prob (F-statistic):           1.19e-71\n",
       "Time:                        11:13:49   Log-Likelihood:                -1937.1\n",
       "No. Observations:                 205   AIC:                             3902.\n",
       "Df Residuals:                     191   BIC:                             3949.\n",
       "Df Model:                          13                                         \n",
       "Covariance Type:            nonrobust                                         \n",
       "====================================================================================\n",
       "                       coef    std err          t      P>|t|      [0.025      0.975]\n",
       "------------------------------------------------------------------------------------\n",
       "const            -5.561e+04   1.49e+04     -3.735      0.000    -8.5e+04   -2.62e+04\n",
       "wheelbase          164.8669    107.305      1.536      0.126     -46.788     376.522\n",
       "carlength          -99.8999     55.112     -1.813      0.071    -208.606       8.806\n",
       "carwidth           474.6476    247.595      1.917      0.057     -13.725     963.020\n",
       "carheight          198.7556    138.022      1.440      0.151     -73.487     470.999\n",
       "curbweight           1.8701      1.734      1.078      0.282      -1.550       5.291\n",
       "stroke           -2935.7037    763.547     -3.845      0.000   -4441.770   -1429.637\n",
       "compressionratio   284.6182     83.324      3.416      0.001     120.265     448.972\n",
       "horsepower          29.9826     15.961      1.879      0.062      -1.500      61.465\n",
       "peakrpm              2.5099      0.644      3.897      0.000       1.240       3.780\n",
       "citympg           -274.2504    179.045     -1.532      0.127    -627.409      78.908\n",
       "highwaympg         187.1856    159.690      1.172      0.243    -127.797     502.168\n",
       "enginesize         117.0985     13.814      8.477      0.000      89.851     144.346\n",
       "symboling          288.4739    243.110      1.187      0.237    -191.051     767.999\n",
       "==============================================================================\n",
       "Omnibus:                       24.380   Durbin-Watson:                   0.896\n",
       "Prob(Omnibus):                  0.000   Jarque-Bera (JB):               70.593\n",
       "Skew:                           0.438   Prob(JB):                     4.69e-16\n",
       "Kurtosis:                       5.738   Cond. No.                     3.85e+05\n",
       "==============================================================================\n",
       "\n",
       "Warnings:\n",
       "[1] Standard Errors assume that the covariance matrix of the errors is correctly specified.\n",
       "[2] The condition number is large, 3.85e+05. This might indicate that there are\n",
       "strong multicollinearity or other numerical problems.\n",
       "\"\"\""
      ]
     },
     "execution_count": 5,
     "metadata": {},
     "output_type": "execute_result"
    }
   ],
   "source": [
    "filt.remove('boreratio')\n",
    "x1 = cData[filt]\n",
    "x1=sm.add_constant(x1)\n",
    "m1=sm.OLS(y,x1).fit()\n",
    "m1.summary()"
   ]
  },
  {
   "cell_type": "code",
   "execution_count": 6,
   "metadata": {},
   "outputs": [
    {
     "data": {
      "text/html": [
       "<table class=\"simpletable\">\n",
       "<caption>OLS Regression Results</caption>\n",
       "<tr>\n",
       "  <th>Dep. Variable:</th>          <td>price</td>      <th>  R-squared:         </th> <td>   0.849</td>\n",
       "</tr>\n",
       "<tr>\n",
       "  <th>Model:</th>                   <td>OLS</td>       <th>  Adj. R-squared:    </th> <td>   0.841</td>\n",
       "</tr>\n",
       "<tr>\n",
       "  <th>Method:</th>             <td>Least Squares</td>  <th>  F-statistic:       </th> <td>   108.7</td>\n",
       "</tr>\n",
       "<tr>\n",
       "  <th>Date:</th>             <td>Tue, 03 Nov 2020</td> <th>  Prob (F-statistic):</th> <td>6.61e-74</td>\n",
       "</tr>\n",
       "<tr>\n",
       "  <th>Time:</th>                 <td>11:13:49</td>     <th>  Log-Likelihood:    </th> <td> -1939.0</td>\n",
       "</tr>\n",
       "<tr>\n",
       "  <th>No. Observations:</th>      <td>   205</td>      <th>  AIC:               </th> <td>   3900.</td>\n",
       "</tr>\n",
       "<tr>\n",
       "  <th>Df Residuals:</th>          <td>   194</td>      <th>  BIC:               </th> <td>   3937.</td>\n",
       "</tr>\n",
       "<tr>\n",
       "  <th>Df Model:</th>              <td>    10</td>      <th>                     </th>     <td> </td>   \n",
       "</tr>\n",
       "<tr>\n",
       "  <th>Covariance Type:</th>      <td>nonrobust</td>    <th>                     </th>     <td> </td>   \n",
       "</tr>\n",
       "</table>\n",
       "<table class=\"simpletable\">\n",
       "<tr>\n",
       "          <td></td>            <th>coef</th>     <th>std err</th>      <th>t</th>      <th>P>|t|</th>  <th>[0.025</th>    <th>0.975]</th>  \n",
       "</tr>\n",
       "<tr>\n",
       "  <th>const</th>            <td>-5.223e+04</td> <td> 1.42e+04</td> <td>   -3.685</td> <td> 0.000</td> <td>-8.02e+04</td> <td>-2.43e+04</td>\n",
       "</tr>\n",
       "<tr>\n",
       "  <th>wheelbase</th>        <td>  113.0859</td> <td>   95.771</td> <td>    1.181</td> <td> 0.239</td> <td>  -75.800</td> <td>  301.972</td>\n",
       "</tr>\n",
       "<tr>\n",
       "  <th>carlength</th>        <td>  -76.4390</td> <td>   52.735</td> <td>   -1.449</td> <td> 0.149</td> <td> -180.447</td> <td>   27.569</td>\n",
       "</tr>\n",
       "<tr>\n",
       "  <th>carwidth</th>         <td>  554.5970</td> <td>  242.816</td> <td>    2.284</td> <td> 0.023</td> <td>   75.698</td> <td> 1033.496</td>\n",
       "</tr>\n",
       "<tr>\n",
       "  <th>carheight</th>        <td>  175.4998</td> <td>  135.277</td> <td>    1.297</td> <td> 0.196</td> <td>  -91.302</td> <td>  442.301</td>\n",
       "</tr>\n",
       "<tr>\n",
       "  <th>stroke</th>           <td>-2809.4907</td> <td>  760.036</td> <td>   -3.697</td> <td> 0.000</td> <td>-4308.484</td> <td>-1310.497</td>\n",
       "</tr>\n",
       "<tr>\n",
       "  <th>compressionratio</th> <td>  327.1205</td> <td>   75.624</td> <td>    4.326</td> <td> 0.000</td> <td>  177.970</td> <td>  476.271</td>\n",
       "</tr>\n",
       "<tr>\n",
       "  <th>horsepower</th>       <td>   35.5806</td> <td>   15.054</td> <td>    2.364</td> <td> 0.019</td> <td>    5.890</td> <td>   65.271</td>\n",
       "</tr>\n",
       "<tr>\n",
       "  <th>peakrpm</th>          <td>    2.3722</td> <td>    0.632</td> <td>    3.751</td> <td> 0.000</td> <td>    1.125</td> <td>    3.619</td>\n",
       "</tr>\n",
       "<tr>\n",
       "  <th>citympg</th>          <td> -143.5059</td> <td>   76.718</td> <td>   -1.871</td> <td> 0.063</td> <td> -294.814</td> <td>    7.802</td>\n",
       "</tr>\n",
       "<tr>\n",
       "  <th>enginesize</th>       <td>  120.1057</td> <td>   12.803</td> <td>    9.381</td> <td> 0.000</td> <td>   94.855</td> <td>  145.356</td>\n",
       "</tr>\n",
       "</table>\n",
       "<table class=\"simpletable\">\n",
       "<tr>\n",
       "  <th>Omnibus:</th>       <td>24.200</td> <th>  Durbin-Watson:     </th> <td>   0.932</td>\n",
       "</tr>\n",
       "<tr>\n",
       "  <th>Prob(Omnibus):</th> <td> 0.000</td> <th>  Jarque-Bera (JB):  </th> <td>  72.614</td>\n",
       "</tr>\n",
       "<tr>\n",
       "  <th>Skew:</th>          <td> 0.418</td> <th>  Prob(JB):          </th> <td>1.71e-16</td>\n",
       "</tr>\n",
       "<tr>\n",
       "  <th>Kurtosis:</th>      <td> 5.793</td> <th>  Cond. No.          </th> <td>3.28e+05</td>\n",
       "</tr>\n",
       "</table><br/><br/>Warnings:<br/>[1] Standard Errors assume that the covariance matrix of the errors is correctly specified.<br/>[2] The condition number is large, 3.28e+05. This might indicate that there are<br/>strong multicollinearity or other numerical problems."
      ],
      "text/plain": [
       "<class 'statsmodels.iolib.summary.Summary'>\n",
       "\"\"\"\n",
       "                            OLS Regression Results                            \n",
       "==============================================================================\n",
       "Dep. Variable:                  price   R-squared:                       0.849\n",
       "Model:                            OLS   Adj. R-squared:                  0.841\n",
       "Method:                 Least Squares   F-statistic:                     108.7\n",
       "Date:                Tue, 03 Nov 2020   Prob (F-statistic):           6.61e-74\n",
       "Time:                        11:13:49   Log-Likelihood:                -1939.0\n",
       "No. Observations:                 205   AIC:                             3900.\n",
       "Df Residuals:                     194   BIC:                             3937.\n",
       "Df Model:                          10                                         \n",
       "Covariance Type:            nonrobust                                         \n",
       "====================================================================================\n",
       "                       coef    std err          t      P>|t|      [0.025      0.975]\n",
       "------------------------------------------------------------------------------------\n",
       "const            -5.223e+04   1.42e+04     -3.685      0.000   -8.02e+04   -2.43e+04\n",
       "wheelbase          113.0859     95.771      1.181      0.239     -75.800     301.972\n",
       "carlength          -76.4390     52.735     -1.449      0.149    -180.447      27.569\n",
       "carwidth           554.5970    242.816      2.284      0.023      75.698    1033.496\n",
       "carheight          175.4998    135.277      1.297      0.196     -91.302     442.301\n",
       "stroke           -2809.4907    760.036     -3.697      0.000   -4308.484   -1310.497\n",
       "compressionratio   327.1205     75.624      4.326      0.000     177.970     476.271\n",
       "horsepower          35.5806     15.054      2.364      0.019       5.890      65.271\n",
       "peakrpm              2.3722      0.632      3.751      0.000       1.125       3.619\n",
       "citympg           -143.5059     76.718     -1.871      0.063    -294.814       7.802\n",
       "enginesize         120.1057     12.803      9.381      0.000      94.855     145.356\n",
       "==============================================================================\n",
       "Omnibus:                       24.200   Durbin-Watson:                   0.932\n",
       "Prob(Omnibus):                  0.000   Jarque-Bera (JB):               72.614\n",
       "Skew:                           0.418   Prob(JB):                     1.71e-16\n",
       "Kurtosis:                       5.793   Cond. No.                     3.28e+05\n",
       "==============================================================================\n",
       "\n",
       "Warnings:\n",
       "[1] Standard Errors assume that the covariance matrix of the errors is correctly specified.\n",
       "[2] The condition number is large, 3.28e+05. This might indicate that there are\n",
       "strong multicollinearity or other numerical problems.\n",
       "\"\"\""
      ]
     },
     "execution_count": 6,
     "metadata": {},
     "output_type": "execute_result"
    }
   ],
   "source": [
    "filt.remove('curbweight')\n",
    "filt.remove('highwaympg')\n",
    "filt.remove('symboling')\n",
    "x2 = cData[filt]\n",
    "x2=sm.add_constant(x2)\n",
    "m2=sm.OLS(y,x2).fit()\n",
    "m2.summary()"
   ]
  },
  {
   "cell_type": "code",
   "execution_count": 7,
   "metadata": {},
   "outputs": [
    {
     "data": {
      "text/html": [
       "<table class=\"simpletable\">\n",
       "<caption>OLS Regression Results</caption>\n",
       "<tr>\n",
       "  <th>Dep. Variable:</th>          <td>price</td>      <th>  R-squared:         </th> <td>   0.845</td>\n",
       "</tr>\n",
       "<tr>\n",
       "  <th>Model:</th>                   <td>OLS</td>       <th>  Adj. R-squared:    </th> <td>   0.839</td>\n",
       "</tr>\n",
       "<tr>\n",
       "  <th>Method:</th>             <td>Least Squares</td>  <th>  F-statistic:       </th> <td>   133.4</td>\n",
       "</tr>\n",
       "<tr>\n",
       "  <th>Date:</th>             <td>Tue, 03 Nov 2020</td> <th>  Prob (F-statistic):</th> <td>4.99e-75</td>\n",
       "</tr>\n",
       "<tr>\n",
       "  <th>Time:</th>                 <td>11:13:49</td>     <th>  Log-Likelihood:    </th> <td> -1941.5</td>\n",
       "</tr>\n",
       "<tr>\n",
       "  <th>No. Observations:</th>      <td>   205</td>      <th>  AIC:               </th> <td>   3901.</td>\n",
       "</tr>\n",
       "<tr>\n",
       "  <th>Df Residuals:</th>          <td>   196</td>      <th>  BIC:               </th> <td>   3931.</td>\n",
       "</tr>\n",
       "<tr>\n",
       "  <th>Df Model:</th>              <td>     8</td>      <th>                     </th>     <td> </td>   \n",
       "</tr>\n",
       "<tr>\n",
       "  <th>Covariance Type:</th>      <td>nonrobust</td>    <th>                     </th>     <td> </td>   \n",
       "</tr>\n",
       "</table>\n",
       "<table class=\"simpletable\">\n",
       "<tr>\n",
       "          <td></td>            <th>coef</th>     <th>std err</th>      <th>t</th>      <th>P>|t|</th>  <th>[0.025</th>    <th>0.975]</th>  \n",
       "</tr>\n",
       "<tr>\n",
       "  <th>const</th>            <td>-4.912e+04</td> <td> 1.29e+04</td> <td>   -3.795</td> <td> 0.000</td> <td>-7.46e+04</td> <td>-2.36e+04</td>\n",
       "</tr>\n",
       "<tr>\n",
       "  <th>carlength</th>        <td>   -2.1267</td> <td>   39.736</td> <td>   -0.054</td> <td> 0.957</td> <td>  -80.492</td> <td>   76.238</td>\n",
       "</tr>\n",
       "<tr>\n",
       "  <th>carwidth</th>         <td>  638.8782</td> <td>  221.800</td> <td>    2.880</td> <td> 0.004</td> <td>  201.458</td> <td> 1076.298</td>\n",
       "</tr>\n",
       "<tr>\n",
       "  <th>stroke</th>           <td>-2921.7653</td> <td>  755.753</td> <td>   -3.866</td> <td> 0.000</td> <td>-4412.216</td> <td>-1431.314</td>\n",
       "</tr>\n",
       "<tr>\n",
       "  <th>compressionratio</th> <td>  324.2141</td> <td>   76.040</td> <td>    4.264</td> <td> 0.000</td> <td>  174.253</td> <td>  474.175</td>\n",
       "</tr>\n",
       "<tr>\n",
       "  <th>horsepower</th>       <td>   27.5258</td> <td>   14.572</td> <td>    1.889</td> <td> 0.060</td> <td>   -1.212</td> <td>   56.264</td>\n",
       "</tr>\n",
       "<tr>\n",
       "  <th>peakrpm</th>          <td>    2.3122</td> <td>    0.636</td> <td>    3.636</td> <td> 0.000</td> <td>    1.058</td> <td>    3.566</td>\n",
       "</tr>\n",
       "<tr>\n",
       "  <th>citympg</th>          <td> -122.5401</td> <td>   76.592</td> <td>   -1.600</td> <td> 0.111</td> <td> -273.591</td> <td>   28.511</td>\n",
       "</tr>\n",
       "<tr>\n",
       "  <th>enginesize</th>       <td>  120.2280</td> <td>   12.701</td> <td>    9.466</td> <td> 0.000</td> <td>   95.180</td> <td>  145.276</td>\n",
       "</tr>\n",
       "</table>\n",
       "<table class=\"simpletable\">\n",
       "<tr>\n",
       "  <th>Omnibus:</th>       <td>21.753</td> <th>  Durbin-Watson:     </th> <td>   0.894</td>\n",
       "</tr>\n",
       "<tr>\n",
       "  <th>Prob(Omnibus):</th> <td> 0.000</td> <th>  Jarque-Bera (JB):  </th> <td>  65.140</td>\n",
       "</tr>\n",
       "<tr>\n",
       "  <th>Skew:</th>          <td> 0.351</td> <th>  Prob(JB):          </th> <td>7.16e-15</td>\n",
       "</tr>\n",
       "<tr>\n",
       "  <th>Kurtosis:</th>      <td> 5.671</td> <th>  Cond. No.          </th> <td>2.98e+05</td>\n",
       "</tr>\n",
       "</table><br/><br/>Warnings:<br/>[1] Standard Errors assume that the covariance matrix of the errors is correctly specified.<br/>[2] The condition number is large, 2.98e+05. This might indicate that there are<br/>strong multicollinearity or other numerical problems."
      ],
      "text/plain": [
       "<class 'statsmodels.iolib.summary.Summary'>\n",
       "\"\"\"\n",
       "                            OLS Regression Results                            \n",
       "==============================================================================\n",
       "Dep. Variable:                  price   R-squared:                       0.845\n",
       "Model:                            OLS   Adj. R-squared:                  0.839\n",
       "Method:                 Least Squares   F-statistic:                     133.4\n",
       "Date:                Tue, 03 Nov 2020   Prob (F-statistic):           4.99e-75\n",
       "Time:                        11:13:49   Log-Likelihood:                -1941.5\n",
       "No. Observations:                 205   AIC:                             3901.\n",
       "Df Residuals:                     196   BIC:                             3931.\n",
       "Df Model:                           8                                         \n",
       "Covariance Type:            nonrobust                                         \n",
       "====================================================================================\n",
       "                       coef    std err          t      P>|t|      [0.025      0.975]\n",
       "------------------------------------------------------------------------------------\n",
       "const            -4.912e+04   1.29e+04     -3.795      0.000   -7.46e+04   -2.36e+04\n",
       "carlength           -2.1267     39.736     -0.054      0.957     -80.492      76.238\n",
       "carwidth           638.8782    221.800      2.880      0.004     201.458    1076.298\n",
       "stroke           -2921.7653    755.753     -3.866      0.000   -4412.216   -1431.314\n",
       "compressionratio   324.2141     76.040      4.264      0.000     174.253     474.175\n",
       "horsepower          27.5258     14.572      1.889      0.060      -1.212      56.264\n",
       "peakrpm              2.3122      0.636      3.636      0.000       1.058       3.566\n",
       "citympg           -122.5401     76.592     -1.600      0.111    -273.591      28.511\n",
       "enginesize         120.2280     12.701      9.466      0.000      95.180     145.276\n",
       "==============================================================================\n",
       "Omnibus:                       21.753   Durbin-Watson:                   0.894\n",
       "Prob(Omnibus):                  0.000   Jarque-Bera (JB):               65.140\n",
       "Skew:                           0.351   Prob(JB):                     7.16e-15\n",
       "Kurtosis:                       5.671   Cond. No.                     2.98e+05\n",
       "==============================================================================\n",
       "\n",
       "Warnings:\n",
       "[1] Standard Errors assume that the covariance matrix of the errors is correctly specified.\n",
       "[2] The condition number is large, 2.98e+05. This might indicate that there are\n",
       "strong multicollinearity or other numerical problems.\n",
       "\"\"\""
      ]
     },
     "execution_count": 7,
     "metadata": {},
     "output_type": "execute_result"
    }
   ],
   "source": [
    "filt.remove('wheelbase')\n",
    "filt.remove('carheight')\n",
    "x3 = cData[filt]\n",
    "x3=sm.add_constant(x3)\n",
    "m3=sm.OLS(y,x3).fit()\n",
    "m3.summary()"
   ]
  },
  {
   "cell_type": "code",
   "execution_count": 8,
   "metadata": {},
   "outputs": [
    {
     "data": {
      "text/html": [
       "<table class=\"simpletable\">\n",
       "<caption>OLS Regression Results</caption>\n",
       "<tr>\n",
       "  <th>Dep. Variable:</th>          <td>price</td>      <th>  R-squared:         </th> <td>   0.842</td>\n",
       "</tr>\n",
       "<tr>\n",
       "  <th>Model:</th>                   <td>OLS</td>       <th>  Adj. R-squared:    </th> <td>   0.838</td>\n",
       "</tr>\n",
       "<tr>\n",
       "  <th>Method:</th>             <td>Least Squares</td>  <th>  F-statistic:       </th> <td>   176.3</td>\n",
       "</tr>\n",
       "<tr>\n",
       "  <th>Date:</th>             <td>Tue, 03 Nov 2020</td> <th>  Prob (F-statistic):</th> <td>1.38e-76</td>\n",
       "</tr>\n",
       "<tr>\n",
       "  <th>Time:</th>                 <td>11:13:49</td>     <th>  Log-Likelihood:    </th> <td> -1943.1</td>\n",
       "</tr>\n",
       "<tr>\n",
       "  <th>No. Observations:</th>      <td>   205</td>      <th>  AIC:               </th> <td>   3900.</td>\n",
       "</tr>\n",
       "<tr>\n",
       "  <th>Df Residuals:</th>          <td>   198</td>      <th>  BIC:               </th> <td>   3924.</td>\n",
       "</tr>\n",
       "<tr>\n",
       "  <th>Df Model:</th>              <td>     6</td>      <th>                     </th>     <td> </td>   \n",
       "</tr>\n",
       "<tr>\n",
       "  <th>Covariance Type:</th>      <td>nonrobust</td>    <th>                     </th>     <td> </td>   \n",
       "</tr>\n",
       "</table>\n",
       "<table class=\"simpletable\">\n",
       "<tr>\n",
       "          <td></td>            <th>coef</th>     <th>std err</th>      <th>t</th>      <th>P>|t|</th>  <th>[0.025</th>    <th>0.975]</th>  \n",
       "</tr>\n",
       "<tr>\n",
       "  <th>const</th>            <td>-6.189e+04</td> <td> 1.08e+04</td> <td>   -5.705</td> <td> 0.000</td> <td>-8.33e+04</td> <td>-4.05e+04</td>\n",
       "</tr>\n",
       "<tr>\n",
       "  <th>carwidth</th>         <td>  777.2925</td> <td>  164.551</td> <td>    4.724</td> <td> 0.000</td> <td>  452.795</td> <td> 1101.790</td>\n",
       "</tr>\n",
       "<tr>\n",
       "  <th>stroke</th>           <td>-2932.6397</td> <td>  756.220</td> <td>   -3.878</td> <td> 0.000</td> <td>-4423.919</td> <td>-1441.360</td>\n",
       "</tr>\n",
       "<tr>\n",
       "  <th>compressionratio</th> <td>  266.6884</td> <td>   67.795</td> <td>    3.934</td> <td> 0.000</td> <td>  132.996</td> <td>  400.381</td>\n",
       "</tr>\n",
       "<tr>\n",
       "  <th>horsepower</th>       <td>   39.0894</td> <td>   12.587</td> <td>    3.106</td> <td> 0.002</td> <td>   14.267</td> <td>   63.911</td>\n",
       "</tr>\n",
       "<tr>\n",
       "  <th>peakrpm</th>          <td>    2.2804</td> <td>    0.632</td> <td>    3.611</td> <td> 0.000</td> <td>    1.035</td> <td>    3.526</td>\n",
       "</tr>\n",
       "<tr>\n",
       "  <th>enginesize</th>       <td>  118.3319</td> <td>   12.495</td> <td>    9.470</td> <td> 0.000</td> <td>   93.691</td> <td>  142.972</td>\n",
       "</tr>\n",
       "</table>\n",
       "<table class=\"simpletable\">\n",
       "<tr>\n",
       "  <th>Omnibus:</th>       <td>20.904</td> <th>  Durbin-Watson:     </th> <td>   0.907</td>\n",
       "</tr>\n",
       "<tr>\n",
       "  <th>Prob(Omnibus):</th> <td> 0.000</td> <th>  Jarque-Bera (JB):  </th> <td>  62.065</td>\n",
       "</tr>\n",
       "<tr>\n",
       "  <th>Skew:</th>          <td> 0.330</td> <th>  Prob(JB):          </th> <td>3.33e-14</td>\n",
       "</tr>\n",
       "<tr>\n",
       "  <th>Kurtosis:</th>      <td> 5.614</td> <th>  Cond. No.          </th> <td>2.48e+05</td>\n",
       "</tr>\n",
       "</table><br/><br/>Warnings:<br/>[1] Standard Errors assume that the covariance matrix of the errors is correctly specified.<br/>[2] The condition number is large, 2.48e+05. This might indicate that there are<br/>strong multicollinearity or other numerical problems."
      ],
      "text/plain": [
       "<class 'statsmodels.iolib.summary.Summary'>\n",
       "\"\"\"\n",
       "                            OLS Regression Results                            \n",
       "==============================================================================\n",
       "Dep. Variable:                  price   R-squared:                       0.842\n",
       "Model:                            OLS   Adj. R-squared:                  0.838\n",
       "Method:                 Least Squares   F-statistic:                     176.3\n",
       "Date:                Tue, 03 Nov 2020   Prob (F-statistic):           1.38e-76\n",
       "Time:                        11:13:49   Log-Likelihood:                -1943.1\n",
       "No. Observations:                 205   AIC:                             3900.\n",
       "Df Residuals:                     198   BIC:                             3924.\n",
       "Df Model:                           6                                         \n",
       "Covariance Type:            nonrobust                                         \n",
       "====================================================================================\n",
       "                       coef    std err          t      P>|t|      [0.025      0.975]\n",
       "------------------------------------------------------------------------------------\n",
       "const            -6.189e+04   1.08e+04     -5.705      0.000   -8.33e+04   -4.05e+04\n",
       "carwidth           777.2925    164.551      4.724      0.000     452.795    1101.790\n",
       "stroke           -2932.6397    756.220     -3.878      0.000   -4423.919   -1441.360\n",
       "compressionratio   266.6884     67.795      3.934      0.000     132.996     400.381\n",
       "horsepower          39.0894     12.587      3.106      0.002      14.267      63.911\n",
       "peakrpm              2.2804      0.632      3.611      0.000       1.035       3.526\n",
       "enginesize         118.3319     12.495      9.470      0.000      93.691     142.972\n",
       "==============================================================================\n",
       "Omnibus:                       20.904   Durbin-Watson:                   0.907\n",
       "Prob(Omnibus):                  0.000   Jarque-Bera (JB):               62.065\n",
       "Skew:                           0.330   Prob(JB):                     3.33e-14\n",
       "Kurtosis:                       5.614   Cond. No.                     2.48e+05\n",
       "==============================================================================\n",
       "\n",
       "Warnings:\n",
       "[1] Standard Errors assume that the covariance matrix of the errors is correctly specified.\n",
       "[2] The condition number is large, 2.48e+05. This might indicate that there are\n",
       "strong multicollinearity or other numerical problems.\n",
       "\"\"\""
      ]
     },
     "execution_count": 8,
     "metadata": {},
     "output_type": "execute_result"
    }
   ],
   "source": [
    "filt.remove('carlength')\n",
    "filt.remove('citympg')\n",
    "x4 = cData[filt]\n",
    "x4=sm.add_constant(x4)\n",
    "m4=sm.OLS(y,x4).fit()\n",
    "m4.summary()"
   ]
  },
  {
   "cell_type": "markdown",
   "metadata": {},
   "source": [
    "### final training data <a id=\"final-training-data\"></a>"
   ]
  },
  {
   "cell_type": "code",
   "execution_count": 9,
   "metadata": {},
   "outputs": [],
   "source": [
    "from sklearn.model_selection import train_test_split\n",
    "xx = cData[filt]\n",
    "\n",
    "xtrain, xtest, ytrain, ytest = train_test_split(xx, y, test_size=0.15)"
   ]
  },
  {
   "cell_type": "code",
   "execution_count": 10,
   "metadata": {},
   "outputs": [
    {
     "data": {
      "text/html": [
       "<table class=\"simpletable\">\n",
       "<caption>OLS Regression Results</caption>\n",
       "<tr>\n",
       "  <th>Dep. Variable:</th>          <td>price</td>      <th>  R-squared:         </th> <td>   0.856</td>\n",
       "</tr>\n",
       "<tr>\n",
       "  <th>Model:</th>                   <td>OLS</td>       <th>  Adj. R-squared:    </th> <td>   0.851</td>\n",
       "</tr>\n",
       "<tr>\n",
       "  <th>Method:</th>             <td>Least Squares</td>  <th>  F-statistic:       </th> <td>   166.1</td>\n",
       "</tr>\n",
       "<tr>\n",
       "  <th>Date:</th>             <td>Tue, 03 Nov 2020</td> <th>  Prob (F-statistic):</th> <td>1.06e-67</td>\n",
       "</tr>\n",
       "<tr>\n",
       "  <th>Time:</th>                 <td>11:13:49</td>     <th>  Log-Likelihood:    </th> <td> -1647.4</td>\n",
       "</tr>\n",
       "<tr>\n",
       "  <th>No. Observations:</th>      <td>   174</td>      <th>  AIC:               </th> <td>   3309.</td>\n",
       "</tr>\n",
       "<tr>\n",
       "  <th>Df Residuals:</th>          <td>   167</td>      <th>  BIC:               </th> <td>   3331.</td>\n",
       "</tr>\n",
       "<tr>\n",
       "  <th>Df Model:</th>              <td>     6</td>      <th>                     </th>     <td> </td>   \n",
       "</tr>\n",
       "<tr>\n",
       "  <th>Covariance Type:</th>      <td>nonrobust</td>    <th>                     </th>     <td> </td>   \n",
       "</tr>\n",
       "</table>\n",
       "<table class=\"simpletable\">\n",
       "<tr>\n",
       "          <td></td>            <th>coef</th>     <th>std err</th>      <th>t</th>      <th>P>|t|</th>  <th>[0.025</th>    <th>0.975]</th>  \n",
       "</tr>\n",
       "<tr>\n",
       "  <th>const</th>            <td>-5.641e+04</td> <td> 1.18e+04</td> <td>   -4.785</td> <td> 0.000</td> <td>-7.97e+04</td> <td>-3.31e+04</td>\n",
       "</tr>\n",
       "<tr>\n",
       "  <th>carwidth</th>         <td>  681.4746</td> <td>  180.833</td> <td>    3.769</td> <td> 0.000</td> <td>  324.462</td> <td> 1038.487</td>\n",
       "</tr>\n",
       "<tr>\n",
       "  <th>stroke</th>           <td>-3549.9656</td> <td>  838.119</td> <td>   -4.236</td> <td> 0.000</td> <td>-5204.640</td> <td>-1895.291</td>\n",
       "</tr>\n",
       "<tr>\n",
       "  <th>compressionratio</th> <td>  311.0333</td> <td>   73.602</td> <td>    4.226</td> <td> 0.000</td> <td>  165.723</td> <td>  456.344</td>\n",
       "</tr>\n",
       "<tr>\n",
       "  <th>horsepower</th>       <td>   42.4374</td> <td>   13.129</td> <td>    3.232</td> <td> 0.001</td> <td>   16.516</td> <td>   68.358</td>\n",
       "</tr>\n",
       "<tr>\n",
       "  <th>peakrpm</th>          <td>    2.4018</td> <td>    0.667</td> <td>    3.599</td> <td> 0.000</td> <td>    1.084</td> <td>    3.719</td>\n",
       "</tr>\n",
       "<tr>\n",
       "  <th>enginesize</th>       <td>  131.1050</td> <td>   13.082</td> <td>   10.021</td> <td> 0.000</td> <td>  105.277</td> <td>  156.933</td>\n",
       "</tr>\n",
       "</table>\n",
       "<table class=\"simpletable\">\n",
       "<tr>\n",
       "  <th>Omnibus:</th>       <td>10.561</td> <th>  Durbin-Watson:     </th> <td>   1.985</td>\n",
       "</tr>\n",
       "<tr>\n",
       "  <th>Prob(Omnibus):</th> <td> 0.005</td> <th>  Jarque-Bera (JB):  </th> <td>  22.104</td>\n",
       "</tr>\n",
       "<tr>\n",
       "  <th>Skew:</th>          <td> 0.166</td> <th>  Prob(JB):          </th> <td>1.59e-05</td>\n",
       "</tr>\n",
       "<tr>\n",
       "  <th>Kurtosis:</th>      <td> 4.714</td> <th>  Cond. No.          </th> <td>2.51e+05</td>\n",
       "</tr>\n",
       "</table><br/><br/>Warnings:<br/>[1] Standard Errors assume that the covariance matrix of the errors is correctly specified.<br/>[2] The condition number is large, 2.51e+05. This might indicate that there are<br/>strong multicollinearity or other numerical problems."
      ],
      "text/plain": [
       "<class 'statsmodels.iolib.summary.Summary'>\n",
       "\"\"\"\n",
       "                            OLS Regression Results                            \n",
       "==============================================================================\n",
       "Dep. Variable:                  price   R-squared:                       0.856\n",
       "Model:                            OLS   Adj. R-squared:                  0.851\n",
       "Method:                 Least Squares   F-statistic:                     166.1\n",
       "Date:                Tue, 03 Nov 2020   Prob (F-statistic):           1.06e-67\n",
       "Time:                        11:13:49   Log-Likelihood:                -1647.4\n",
       "No. Observations:                 174   AIC:                             3309.\n",
       "Df Residuals:                     167   BIC:                             3331.\n",
       "Df Model:                           6                                         \n",
       "Covariance Type:            nonrobust                                         \n",
       "====================================================================================\n",
       "                       coef    std err          t      P>|t|      [0.025      0.975]\n",
       "------------------------------------------------------------------------------------\n",
       "const            -5.641e+04   1.18e+04     -4.785      0.000   -7.97e+04   -3.31e+04\n",
       "carwidth           681.4746    180.833      3.769      0.000     324.462    1038.487\n",
       "stroke           -3549.9656    838.119     -4.236      0.000   -5204.640   -1895.291\n",
       "compressionratio   311.0333     73.602      4.226      0.000     165.723     456.344\n",
       "horsepower          42.4374     13.129      3.232      0.001      16.516      68.358\n",
       "peakrpm              2.4018      0.667      3.599      0.000       1.084       3.719\n",
       "enginesize         131.1050     13.082     10.021      0.000     105.277     156.933\n",
       "==============================================================================\n",
       "Omnibus:                       10.561   Durbin-Watson:                   1.985\n",
       "Prob(Omnibus):                  0.005   Jarque-Bera (JB):               22.104\n",
       "Skew:                           0.166   Prob(JB):                     1.59e-05\n",
       "Kurtosis:                       4.714   Cond. No.                     2.51e+05\n",
       "==============================================================================\n",
       "\n",
       "Warnings:\n",
       "[1] Standard Errors assume that the covariance matrix of the errors is correctly specified.\n",
       "[2] The condition number is large, 2.51e+05. This might indicate that there are\n",
       "strong multicollinearity or other numerical problems.\n",
       "\"\"\""
      ]
     },
     "execution_count": 10,
     "metadata": {},
     "output_type": "execute_result"
    }
   ],
   "source": [
    "mfinal=sm.OLS(ytrain,sm.add_constant(xtrain)).fit()\n",
    "mfinal.summary()"
   ]
  },
  {
   "cell_type": "code",
   "execution_count": 11,
   "metadata": {},
   "outputs": [
    {
     "data": {
      "text/plain": [
       "49     51348.888278\n",
       "11     12922.704161\n",
       "171    14355.151902\n",
       "4      15178.773342\n",
       "164     6594.808684\n",
       "116    18165.631485\n",
       "21      6423.605250\n",
       "20      6617.095043\n",
       "148    10753.657940\n",
       "111    16814.256346\n",
       "124    15860.917865\n",
       "184     9763.021464\n",
       "2      17179.807719\n",
       "23      7784.350865\n",
       "186     9463.068558\n",
       "178    22466.778281\n",
       "5      15053.955666\n",
       "61     10636.736858\n",
       "38     10114.176873\n",
       "117    17960.816601\n",
       "179    22466.778281\n",
       "6      18529.476334\n",
       "159    10188.948485\n",
       "98      6447.122511\n",
       "64     10636.736858\n",
       "154     5196.090039\n",
       "146    10753.657940\n",
       "133    14043.535743\n",
       "33      7658.209348\n",
       "97      6447.122511\n",
       "59     10636.736858\n",
       "dtype: float64"
      ]
     },
     "execution_count": 11,
     "metadata": {},
     "output_type": "execute_result"
    }
   ],
   "source": [
    "ypred = mfinal.predict(sm.add_constant(xtest))\n",
    "ypred"
   ]
  },
  {
   "cell_type": "code",
   "execution_count": 12,
   "metadata": {},
   "outputs": [
    {
     "data": {
      "text/plain": [
       "49     36000.0\n",
       "11     16925.0\n",
       "171    11549.0\n",
       "4      17450.0\n",
       "164     8238.0\n",
       "116    17950.0\n",
       "21      5572.0\n",
       "20      6575.0\n",
       "148     8013.0\n",
       "111    15580.0\n",
       "124    12764.0\n",
       "184     7995.0\n",
       "2      16500.0\n",
       "23      7957.0\n",
       "186     8495.0\n",
       "178    16558.0\n",
       "5      15250.0\n",
       "61     10595.0\n",
       "38      9095.0\n",
       "117    18150.0\n",
       "179    15998.0\n",
       "6      17710.0\n",
       "159     7788.0\n",
       "98      8249.0\n",
       "64     11245.0\n",
       "154     7898.0\n",
       "146     7463.0\n",
       "133    12170.0\n",
       "33      6529.0\n",
       "97      7999.0\n",
       "59      8845.0\n",
       "Name: price, dtype: float64"
      ]
     },
     "execution_count": 12,
     "metadata": {},
     "output_type": "execute_result"
    }
   ],
   "source": [
    "ytest"
   ]
  },
  {
   "cell_type": "code",
   "execution_count": 13,
   "metadata": {},
   "outputs": [
    {
     "data": {
      "text/plain": [
       "0.6282787076794186"
      ]
     },
     "execution_count": 13,
     "metadata": {},
     "output_type": "execute_result"
    }
   ],
   "source": [
    "from sklearn.metrics import r2_score\n",
    "r2 = r2_score(ytest, ypred)\n",
    "r2"
   ]
  },
  {
   "cell_type": "code",
   "execution_count": 14,
   "metadata": {},
   "outputs": [
    {
     "data": {
      "text/plain": [
       "(174, 6)"
      ]
     },
     "execution_count": 14,
     "metadata": {},
     "output_type": "execute_result"
    }
   ],
   "source": [
    "xshape = xtrain.shape\n",
    "xshape"
   ]
  },
  {
   "cell_type": "code",
   "execution_count": 15,
   "metadata": {},
   "outputs": [
    {
     "data": {
      "text/plain": [
       "0.37298805552415826"
      ]
     },
     "execution_count": 15,
     "metadata": {},
     "output_type": "execute_result"
    }
   ],
   "source": [
    "adjustedr2 = 1-(1-r2**2)*(xshape[0]-1)/(xshape[0]-xshape[1]-1)\n",
    "adjustedr2"
   ]
  },
  {
   "cell_type": "markdown",
   "metadata": {},
   "source": [
    "### problem 1. summary <a id=\"p1-summary\"></a>"
   ]
  },
  {
   "cell_type": "markdown",
   "metadata": {},
   "source": [
    "## Problem 2 <a id=\"p2\"></a>"
   ]
  },
  {
   "cell_type": "code",
   "execution_count": 16,
   "metadata": {},
   "outputs": [
    {
     "data": {
      "text/plain": [
       "Pregnancies                   int64\n",
       "Glucose                       int64\n",
       "BloodPressure                 int64\n",
       "SkinThickness                 int64\n",
       "Insulin                       int64\n",
       "BMI                         float64\n",
       "DiabetesPedigreeFunction    float64\n",
       "Age                           int64\n",
       "Outcome                       int64\n",
       "dtype: object"
      ]
     },
     "execution_count": 16,
     "metadata": {},
     "output_type": "execute_result"
    }
   ],
   "source": [
    "dData = pd.read_csv('diabetes-1.csv')\n",
    "\n",
    "#print dtypes of columns to filter for numerical comulmns\n",
    "dData.dtypes"
   ]
  },
  {
   "cell_type": "code",
   "execution_count": 17,
   "metadata": {},
   "outputs": [
    {
     "data": {
      "text/plain": [
       "(768, 9)"
      ]
     },
     "execution_count": 17,
     "metadata": {},
     "output_type": "execute_result"
    }
   ],
   "source": [
    "dData.shape"
   ]
  },
  {
   "cell_type": "code",
   "execution_count": 18,
   "metadata": {},
   "outputs": [
    {
     "data": {
      "text/plain": [
       "['Pregnancies',\n",
       " 'Glucose',\n",
       " 'BloodPressure',\n",
       " 'SkinThickness',\n",
       " 'Insulin',\n",
       " 'BMI',\n",
       " 'DiabetesPedigreeFunction',\n",
       " 'Age']"
      ]
     },
     "execution_count": 18,
     "metadata": {},
     "output_type": "execute_result"
    }
   ],
   "source": [
    "filt2 = list(dData.columns[0:8])\n",
    "filt2"
   ]
  },
  {
   "cell_type": "code",
   "execution_count": 19,
   "metadata": {},
   "outputs": [
    {
     "data": {
      "text/html": [
       "<div>\n",
       "<style scoped>\n",
       "    .dataframe tbody tr th:only-of-type {\n",
       "        vertical-align: middle;\n",
       "    }\n",
       "\n",
       "    .dataframe tbody tr th {\n",
       "        vertical-align: top;\n",
       "    }\n",
       "\n",
       "    .dataframe thead th {\n",
       "        text-align: right;\n",
       "    }\n",
       "</style>\n",
       "<table border=\"1\" class=\"dataframe\">\n",
       "  <thead>\n",
       "    <tr style=\"text-align: right;\">\n",
       "      <th></th>\n",
       "      <th>Pregnancies</th>\n",
       "      <th>Glucose</th>\n",
       "      <th>BloodPressure</th>\n",
       "      <th>SkinThickness</th>\n",
       "      <th>Insulin</th>\n",
       "      <th>BMI</th>\n",
       "      <th>DiabetesPedigreeFunction</th>\n",
       "      <th>Age</th>\n",
       "    </tr>\n",
       "  </thead>\n",
       "  <tbody>\n",
       "    <tr>\n",
       "      <th>0</th>\n",
       "      <td>6</td>\n",
       "      <td>148</td>\n",
       "      <td>72</td>\n",
       "      <td>35</td>\n",
       "      <td>0</td>\n",
       "      <td>33.6</td>\n",
       "      <td>0.627</td>\n",
       "      <td>50</td>\n",
       "    </tr>\n",
       "    <tr>\n",
       "      <th>1</th>\n",
       "      <td>1</td>\n",
       "      <td>85</td>\n",
       "      <td>66</td>\n",
       "      <td>29</td>\n",
       "      <td>0</td>\n",
       "      <td>26.6</td>\n",
       "      <td>0.351</td>\n",
       "      <td>31</td>\n",
       "    </tr>\n",
       "    <tr>\n",
       "      <th>2</th>\n",
       "      <td>8</td>\n",
       "      <td>183</td>\n",
       "      <td>64</td>\n",
       "      <td>0</td>\n",
       "      <td>0</td>\n",
       "      <td>23.3</td>\n",
       "      <td>0.672</td>\n",
       "      <td>32</td>\n",
       "    </tr>\n",
       "    <tr>\n",
       "      <th>3</th>\n",
       "      <td>1</td>\n",
       "      <td>89</td>\n",
       "      <td>66</td>\n",
       "      <td>23</td>\n",
       "      <td>94</td>\n",
       "      <td>28.1</td>\n",
       "      <td>0.167</td>\n",
       "      <td>21</td>\n",
       "    </tr>\n",
       "    <tr>\n",
       "      <th>4</th>\n",
       "      <td>0</td>\n",
       "      <td>137</td>\n",
       "      <td>40</td>\n",
       "      <td>35</td>\n",
       "      <td>168</td>\n",
       "      <td>43.1</td>\n",
       "      <td>2.288</td>\n",
       "      <td>33</td>\n",
       "    </tr>\n",
       "  </tbody>\n",
       "</table>\n",
       "</div>"
      ],
      "text/plain": [
       "   Pregnancies  Glucose  BloodPressure  SkinThickness  Insulin   BMI  \\\n",
       "0            6      148             72             35        0  33.6   \n",
       "1            1       85             66             29        0  26.6   \n",
       "2            8      183             64              0        0  23.3   \n",
       "3            1       89             66             23       94  28.1   \n",
       "4            0      137             40             35      168  43.1   \n",
       "\n",
       "   DiabetesPedigreeFunction  Age  \n",
       "0                     0.627   50  \n",
       "1                     0.351   31  \n",
       "2                     0.672   32  \n",
       "3                     0.167   21  \n",
       "4                     2.288   33  "
      ]
     },
     "execution_count": 19,
     "metadata": {},
     "output_type": "execute_result"
    }
   ],
   "source": [
    "w = dData[filt2]\n",
    "w.head()"
   ]
  },
  {
   "cell_type": "code",
   "execution_count": 20,
   "metadata": {},
   "outputs": [
    {
     "name": "stdout",
     "output_type": "stream",
     "text": [
      "Optimization terminated successfully.\n",
      "         Current function value: 0.470993\n",
      "         Iterations 6\n"
     ]
    },
    {
     "data": {
      "text/html": [
       "<table class=\"simpletable\">\n",
       "<caption>Logit Regression Results</caption>\n",
       "<tr>\n",
       "  <th>Dep. Variable:</th>        <td>Outcome</td>     <th>  No. Observations:  </th>  <td>   768</td>  \n",
       "</tr>\n",
       "<tr>\n",
       "  <th>Model:</th>                 <td>Logit</td>      <th>  Df Residuals:      </th>  <td>   759</td>  \n",
       "</tr>\n",
       "<tr>\n",
       "  <th>Method:</th>                 <td>MLE</td>       <th>  Df Model:          </th>  <td>     8</td>  \n",
       "</tr>\n",
       "<tr>\n",
       "  <th>Date:</th>            <td>Tue, 03 Nov 2020</td> <th>  Pseudo R-squ.:     </th>  <td>0.2718</td>  \n",
       "</tr>\n",
       "<tr>\n",
       "  <th>Time:</th>                <td>11:13:49</td>     <th>  Log-Likelihood:    </th> <td> -361.72</td> \n",
       "</tr>\n",
       "<tr>\n",
       "  <th>converged:</th>             <td>True</td>       <th>  LL-Null:           </th> <td> -496.74</td> \n",
       "</tr>\n",
       "<tr>\n",
       "  <th>Covariance Type:</th>     <td>nonrobust</td>    <th>  LLR p-value:       </th> <td>9.652e-54</td>\n",
       "</tr>\n",
       "</table>\n",
       "<table class=\"simpletable\">\n",
       "<tr>\n",
       "              <td></td>                <th>coef</th>     <th>std err</th>      <th>z</th>      <th>P>|z|</th>  <th>[0.025</th>    <th>0.975]</th>  \n",
       "</tr>\n",
       "<tr>\n",
       "  <th>const</th>                    <td>   -8.4047</td> <td>    0.717</td> <td>  -11.728</td> <td> 0.000</td> <td>   -9.809</td> <td>   -7.000</td>\n",
       "</tr>\n",
       "<tr>\n",
       "  <th>Pregnancies</th>              <td>    0.1232</td> <td>    0.032</td> <td>    3.840</td> <td> 0.000</td> <td>    0.060</td> <td>    0.186</td>\n",
       "</tr>\n",
       "<tr>\n",
       "  <th>Glucose</th>                  <td>    0.0352</td> <td>    0.004</td> <td>    9.481</td> <td> 0.000</td> <td>    0.028</td> <td>    0.042</td>\n",
       "</tr>\n",
       "<tr>\n",
       "  <th>BloodPressure</th>            <td>   -0.0133</td> <td>    0.005</td> <td>   -2.540</td> <td> 0.011</td> <td>   -0.024</td> <td>   -0.003</td>\n",
       "</tr>\n",
       "<tr>\n",
       "  <th>SkinThickness</th>            <td>    0.0006</td> <td>    0.007</td> <td>    0.090</td> <td> 0.929</td> <td>   -0.013</td> <td>    0.014</td>\n",
       "</tr>\n",
       "<tr>\n",
       "  <th>Insulin</th>                  <td>   -0.0012</td> <td>    0.001</td> <td>   -1.322</td> <td> 0.186</td> <td>   -0.003</td> <td>    0.001</td>\n",
       "</tr>\n",
       "<tr>\n",
       "  <th>BMI</th>                      <td>    0.0897</td> <td>    0.015</td> <td>    5.945</td> <td> 0.000</td> <td>    0.060</td> <td>    0.119</td>\n",
       "</tr>\n",
       "<tr>\n",
       "  <th>DiabetesPedigreeFunction</th> <td>    0.9452</td> <td>    0.299</td> <td>    3.160</td> <td> 0.002</td> <td>    0.359</td> <td>    1.531</td>\n",
       "</tr>\n",
       "<tr>\n",
       "  <th>Age</th>                      <td>    0.0149</td> <td>    0.009</td> <td>    1.593</td> <td> 0.111</td> <td>   -0.003</td> <td>    0.033</td>\n",
       "</tr>\n",
       "</table>"
      ],
      "text/plain": [
       "<class 'statsmodels.iolib.summary.Summary'>\n",
       "\"\"\"\n",
       "                           Logit Regression Results                           \n",
       "==============================================================================\n",
       "Dep. Variable:                Outcome   No. Observations:                  768\n",
       "Model:                          Logit   Df Residuals:                      759\n",
       "Method:                           MLE   Df Model:                            8\n",
       "Date:                Tue, 03 Nov 2020   Pseudo R-squ.:                  0.2718\n",
       "Time:                        11:13:49   Log-Likelihood:                -361.72\n",
       "converged:                       True   LL-Null:                       -496.74\n",
       "Covariance Type:            nonrobust   LLR p-value:                 9.652e-54\n",
       "============================================================================================\n",
       "                               coef    std err          z      P>|z|      [0.025      0.975]\n",
       "--------------------------------------------------------------------------------------------\n",
       "const                       -8.4047      0.717    -11.728      0.000      -9.809      -7.000\n",
       "Pregnancies                  0.1232      0.032      3.840      0.000       0.060       0.186\n",
       "Glucose                      0.0352      0.004      9.481      0.000       0.028       0.042\n",
       "BloodPressure               -0.0133      0.005     -2.540      0.011      -0.024      -0.003\n",
       "SkinThickness                0.0006      0.007      0.090      0.929      -0.013       0.014\n",
       "Insulin                     -0.0012      0.001     -1.322      0.186      -0.003       0.001\n",
       "BMI                          0.0897      0.015      5.945      0.000       0.060       0.119\n",
       "DiabetesPedigreeFunction     0.9452      0.299      3.160      0.002       0.359       1.531\n",
       "Age                          0.0149      0.009      1.593      0.111      -0.003       0.033\n",
       "============================================================================================\n",
       "\"\"\""
      ]
     },
     "execution_count": 20,
     "metadata": {},
     "output_type": "execute_result"
    }
   ],
   "source": [
    "z=dData.Outcome\n",
    "m20=sm.Logit(z,sm.add_constant(w)).fit()\n",
    "m20.summary()"
   ]
  },
  {
   "cell_type": "code",
   "execution_count": 21,
   "metadata": {},
   "outputs": [
    {
     "name": "stdout",
     "output_type": "stream",
     "text": [
      "Optimization terminated successfully.\n",
      "         Current function value: 0.470998\n",
      "         Iterations 6\n"
     ]
    },
    {
     "data": {
      "text/html": [
       "<table class=\"simpletable\">\n",
       "<caption>Logit Regression Results</caption>\n",
       "<tr>\n",
       "  <th>Dep. Variable:</th>        <td>Outcome</td>     <th>  No. Observations:  </th>  <td>   768</td>  \n",
       "</tr>\n",
       "<tr>\n",
       "  <th>Model:</th>                 <td>Logit</td>      <th>  Df Residuals:      </th>  <td>   760</td>  \n",
       "</tr>\n",
       "<tr>\n",
       "  <th>Method:</th>                 <td>MLE</td>       <th>  Df Model:          </th>  <td>     7</td>  \n",
       "</tr>\n",
       "<tr>\n",
       "  <th>Date:</th>            <td>Tue, 03 Nov 2020</td> <th>  Pseudo R-squ.:     </th>  <td>0.2718</td>  \n",
       "</tr>\n",
       "<tr>\n",
       "  <th>Time:</th>                <td>11:13:49</td>     <th>  Log-Likelihood:    </th> <td> -361.73</td> \n",
       "</tr>\n",
       "<tr>\n",
       "  <th>converged:</th>             <td>True</td>       <th>  LL-Null:           </th> <td> -496.74</td> \n",
       "</tr>\n",
       "<tr>\n",
       "  <th>Covariance Type:</th>     <td>nonrobust</td>    <th>  LLR p-value:       </th> <td>1.500e-54</td>\n",
       "</tr>\n",
       "</table>\n",
       "<table class=\"simpletable\">\n",
       "<tr>\n",
       "              <td></td>                <th>coef</th>     <th>std err</th>      <th>z</th>      <th>P>|z|</th>  <th>[0.025</th>    <th>0.975]</th>  \n",
       "</tr>\n",
       "<tr>\n",
       "  <th>const</th>                    <td>   -8.4051</td> <td>    0.717</td> <td>  -11.727</td> <td> 0.000</td> <td>   -9.810</td> <td>   -7.000</td>\n",
       "</tr>\n",
       "<tr>\n",
       "  <th>Pregnancies</th>              <td>    0.1232</td> <td>    0.032</td> <td>    3.841</td> <td> 0.000</td> <td>    0.060</td> <td>    0.186</td>\n",
       "</tr>\n",
       "<tr>\n",
       "  <th>Glucose</th>                  <td>    0.0351</td> <td>    0.004</td> <td>    9.587</td> <td> 0.000</td> <td>    0.028</td> <td>    0.042</td>\n",
       "</tr>\n",
       "<tr>\n",
       "  <th>BloodPressure</th>            <td>   -0.0132</td> <td>    0.005</td> <td>   -2.564</td> <td> 0.010</td> <td>   -0.023</td> <td>   -0.003</td>\n",
       "</tr>\n",
       "<tr>\n",
       "  <th>Insulin</th>                  <td>   -0.0012</td> <td>    0.001</td> <td>   -1.421</td> <td> 0.155</td> <td>   -0.003</td> <td>    0.000</td>\n",
       "</tr>\n",
       "<tr>\n",
       "  <th>BMI</th>                      <td>    0.0901</td> <td>    0.014</td> <td>    6.229</td> <td> 0.000</td> <td>    0.062</td> <td>    0.118</td>\n",
       "</tr>\n",
       "<tr>\n",
       "  <th>DiabetesPedigreeFunction</th> <td>    0.9476</td> <td>    0.298</td> <td>    3.180</td> <td> 0.001</td> <td>    0.364</td> <td>    1.532</td>\n",
       "</tr>\n",
       "<tr>\n",
       "  <th>Age</th>                      <td>    0.0148</td> <td>    0.009</td> <td>    1.592</td> <td> 0.111</td> <td>   -0.003</td> <td>    0.033</td>\n",
       "</tr>\n",
       "</table>"
      ],
      "text/plain": [
       "<class 'statsmodels.iolib.summary.Summary'>\n",
       "\"\"\"\n",
       "                           Logit Regression Results                           \n",
       "==============================================================================\n",
       "Dep. Variable:                Outcome   No. Observations:                  768\n",
       "Model:                          Logit   Df Residuals:                      760\n",
       "Method:                           MLE   Df Model:                            7\n",
       "Date:                Tue, 03 Nov 2020   Pseudo R-squ.:                  0.2718\n",
       "Time:                        11:13:49   Log-Likelihood:                -361.73\n",
       "converged:                       True   LL-Null:                       -496.74\n",
       "Covariance Type:            nonrobust   LLR p-value:                 1.500e-54\n",
       "============================================================================================\n",
       "                               coef    std err          z      P>|z|      [0.025      0.975]\n",
       "--------------------------------------------------------------------------------------------\n",
       "const                       -8.4051      0.717    -11.727      0.000      -9.810      -7.000\n",
       "Pregnancies                  0.1232      0.032      3.841      0.000       0.060       0.186\n",
       "Glucose                      0.0351      0.004      9.587      0.000       0.028       0.042\n",
       "BloodPressure               -0.0132      0.005     -2.564      0.010      -0.023      -0.003\n",
       "Insulin                     -0.0012      0.001     -1.421      0.155      -0.003       0.000\n",
       "BMI                          0.0901      0.014      6.229      0.000       0.062       0.118\n",
       "DiabetesPedigreeFunction     0.9476      0.298      3.180      0.001       0.364       1.532\n",
       "Age                          0.0148      0.009      1.592      0.111      -0.003       0.033\n",
       "============================================================================================\n",
       "\"\"\""
      ]
     },
     "execution_count": 21,
     "metadata": {},
     "output_type": "execute_result"
    }
   ],
   "source": [
    "filt2.remove('SkinThickness')\n",
    "w1 = dData[filt2]\n",
    "m21=sm.Logit(z,sm.add_constant(w1)).fit()\n",
    "m21.summary()"
   ]
  },
  {
   "cell_type": "markdown",
   "metadata": {},
   "source": [
    "### final training data <a id=\"final-training-data2\"></a>"
   ]
  },
  {
   "cell_type": "code",
   "execution_count": 22,
   "metadata": {},
   "outputs": [
    {
     "name": "stdout",
     "output_type": "stream",
     "text": [
      "Optimization terminated successfully.\n",
      "         Current function value: 0.472306\n",
      "         Iterations 6\n"
     ]
    },
    {
     "data": {
      "text/html": [
       "<table class=\"simpletable\">\n",
       "<caption>Logit Regression Results</caption>\n",
       "<tr>\n",
       "  <th>Dep. Variable:</th>        <td>Outcome</td>     <th>  No. Observations:  </th>  <td>   768</td>  \n",
       "</tr>\n",
       "<tr>\n",
       "  <th>Model:</th>                 <td>Logit</td>      <th>  Df Residuals:      </th>  <td>   761</td>  \n",
       "</tr>\n",
       "<tr>\n",
       "  <th>Method:</th>                 <td>MLE</td>       <th>  Df Model:          </th>  <td>     6</td>  \n",
       "</tr>\n",
       "<tr>\n",
       "  <th>Date:</th>            <td>Tue, 03 Nov 2020</td> <th>  Pseudo R-squ.:     </th>  <td>0.2698</td>  \n",
       "</tr>\n",
       "<tr>\n",
       "  <th>Time:</th>                <td>11:13:49</td>     <th>  Log-Likelihood:    </th> <td> -362.73</td> \n",
       "</tr>\n",
       "<tr>\n",
       "  <th>converged:</th>             <td>True</td>       <th>  LL-Null:           </th> <td> -496.74</td> \n",
       "</tr>\n",
       "<tr>\n",
       "  <th>Covariance Type:</th>     <td>nonrobust</td>    <th>  LLR p-value:       </th> <td>5.747e-55</td>\n",
       "</tr>\n",
       "</table>\n",
       "<table class=\"simpletable\">\n",
       "<tr>\n",
       "              <td></td>                <th>coef</th>     <th>std err</th>      <th>z</th>      <th>P>|z|</th>  <th>[0.025</th>    <th>0.975]</th>  \n",
       "</tr>\n",
       "<tr>\n",
       "  <th>const</th>                    <td>   -8.2398</td> <td>    0.702</td> <td>  -11.738</td> <td> 0.000</td> <td>   -9.616</td> <td>   -6.864</td>\n",
       "</tr>\n",
       "<tr>\n",
       "  <th>Pregnancies</th>              <td>    0.1249</td> <td>    0.032</td> <td>    3.907</td> <td> 0.000</td> <td>    0.062</td> <td>    0.188</td>\n",
       "</tr>\n",
       "<tr>\n",
       "  <th>Glucose</th>                  <td>    0.0335</td> <td>    0.003</td> <td>    9.736</td> <td> 0.000</td> <td>    0.027</td> <td>    0.040</td>\n",
       "</tr>\n",
       "<tr>\n",
       "  <th>BloodPressure</th>            <td>   -0.0135</td> <td>    0.005</td> <td>   -2.637</td> <td> 0.008</td> <td>   -0.024</td> <td>   -0.003</td>\n",
       "</tr>\n",
       "<tr>\n",
       "  <th>BMI</th>                      <td>    0.0877</td> <td>    0.014</td> <td>    6.145</td> <td> 0.000</td> <td>    0.060</td> <td>    0.116</td>\n",
       "</tr>\n",
       "<tr>\n",
       "  <th>DiabetesPedigreeFunction</th> <td>    0.8962</td> <td>    0.295</td> <td>    3.039</td> <td> 0.002</td> <td>    0.318</td> <td>    1.474</td>\n",
       "</tr>\n",
       "<tr>\n",
       "  <th>Age</th>                      <td>    0.0163</td> <td>    0.009</td> <td>    1.767</td> <td> 0.077</td> <td>   -0.002</td> <td>    0.034</td>\n",
       "</tr>\n",
       "</table>"
      ],
      "text/plain": [
       "<class 'statsmodels.iolib.summary.Summary'>\n",
       "\"\"\"\n",
       "                           Logit Regression Results                           \n",
       "==============================================================================\n",
       "Dep. Variable:                Outcome   No. Observations:                  768\n",
       "Model:                          Logit   Df Residuals:                      761\n",
       "Method:                           MLE   Df Model:                            6\n",
       "Date:                Tue, 03 Nov 2020   Pseudo R-squ.:                  0.2698\n",
       "Time:                        11:13:49   Log-Likelihood:                -362.73\n",
       "converged:                       True   LL-Null:                       -496.74\n",
       "Covariance Type:            nonrobust   LLR p-value:                 5.747e-55\n",
       "============================================================================================\n",
       "                               coef    std err          z      P>|z|      [0.025      0.975]\n",
       "--------------------------------------------------------------------------------------------\n",
       "const                       -8.2398      0.702    -11.738      0.000      -9.616      -6.864\n",
       "Pregnancies                  0.1249      0.032      3.907      0.000       0.062       0.188\n",
       "Glucose                      0.0335      0.003      9.736      0.000       0.027       0.040\n",
       "BloodPressure               -0.0135      0.005     -2.637      0.008      -0.024      -0.003\n",
       "BMI                          0.0877      0.014      6.145      0.000       0.060       0.116\n",
       "DiabetesPedigreeFunction     0.8962      0.295      3.039      0.002       0.318       1.474\n",
       "Age                          0.0163      0.009      1.767      0.077      -0.002       0.034\n",
       "============================================================================================\n",
       "\"\"\""
      ]
     },
     "execution_count": 22,
     "metadata": {},
     "output_type": "execute_result"
    }
   ],
   "source": [
    "filt2.remove('Insulin')\n",
    "w2 = dData[filt2]\n",
    "m22=sm.Logit(z,sm.add_constant(w2)).fit()\n",
    "m22.summary()"
   ]
  },
  {
   "cell_type": "code",
   "execution_count": 23,
   "metadata": {},
   "outputs": [],
   "source": [
    "ww = dData[filt2]\n",
    "wtrain, wtest, ztrain, ztest = train_test_split(ww, z, test_size=0.15)"
   ]
  },
  {
   "cell_type": "markdown",
   "metadata": {},
   "source": [
    "### problem 2. summary <a id=\"p2-summary\"></a>"
   ]
  },
  {
   "cell_type": "code",
   "execution_count": 24,
   "metadata": {},
   "outputs": [
    {
     "name": "stdout",
     "output_type": "stream",
     "text": [
      "Optimization terminated successfully.\n",
      "         Current function value: 0.461824\n",
      "         Iterations 6\n"
     ]
    },
    {
     "data": {
      "text/html": [
       "<table class=\"simpletable\">\n",
       "<caption>Logit Regression Results</caption>\n",
       "<tr>\n",
       "  <th>Dep. Variable:</th>        <td>Outcome</td>     <th>  No. Observations:  </th>  <td>   652</td>  \n",
       "</tr>\n",
       "<tr>\n",
       "  <th>Model:</th>                 <td>Logit</td>      <th>  Df Residuals:      </th>  <td>   645</td>  \n",
       "</tr>\n",
       "<tr>\n",
       "  <th>Method:</th>                 <td>MLE</td>       <th>  Df Model:          </th>  <td>     6</td>  \n",
       "</tr>\n",
       "<tr>\n",
       "  <th>Date:</th>            <td>Tue, 03 Nov 2020</td> <th>  Pseudo R-squ.:     </th>  <td>0.2833</td>  \n",
       "</tr>\n",
       "<tr>\n",
       "  <th>Time:</th>                <td>11:13:49</td>     <th>  Log-Likelihood:    </th> <td> -301.11</td> \n",
       "</tr>\n",
       "<tr>\n",
       "  <th>converged:</th>             <td>True</td>       <th>  LL-Null:           </th> <td> -420.12</td> \n",
       "</tr>\n",
       "<tr>\n",
       "  <th>Covariance Type:</th>     <td>nonrobust</td>    <th>  LLR p-value:       </th> <td>1.485e-48</td>\n",
       "</tr>\n",
       "</table>\n",
       "<table class=\"simpletable\">\n",
       "<tr>\n",
       "              <td></td>                <th>coef</th>     <th>std err</th>      <th>z</th>      <th>P>|z|</th>  <th>[0.025</th>    <th>0.975]</th>  \n",
       "</tr>\n",
       "<tr>\n",
       "  <th>const</th>                    <td>   -8.6011</td> <td>    0.775</td> <td>  -11.102</td> <td> 0.000</td> <td>  -10.119</td> <td>   -7.083</td>\n",
       "</tr>\n",
       "<tr>\n",
       "  <th>Pregnancies</th>              <td>    0.1468</td> <td>    0.035</td> <td>    4.177</td> <td> 0.000</td> <td>    0.078</td> <td>    0.216</td>\n",
       "</tr>\n",
       "<tr>\n",
       "  <th>Glucose</th>                  <td>    0.0358</td> <td>    0.004</td> <td>    9.176</td> <td> 0.000</td> <td>    0.028</td> <td>    0.043</td>\n",
       "</tr>\n",
       "<tr>\n",
       "  <th>BloodPressure</th>            <td>   -0.0111</td> <td>    0.005</td> <td>   -2.069</td> <td> 0.039</td> <td>   -0.022</td> <td>   -0.001</td>\n",
       "</tr>\n",
       "<tr>\n",
       "  <th>BMI</th>                      <td>    0.0812</td> <td>    0.016</td> <td>    5.158</td> <td> 0.000</td> <td>    0.050</td> <td>    0.112</td>\n",
       "</tr>\n",
       "<tr>\n",
       "  <th>DiabetesPedigreeFunction</th> <td>    1.1652</td> <td>    0.322</td> <td>    3.617</td> <td> 0.000</td> <td>    0.534</td> <td>    1.797</td>\n",
       "</tr>\n",
       "<tr>\n",
       "  <th>Age</th>                      <td>    0.0122</td> <td>    0.010</td> <td>    1.211</td> <td> 0.226</td> <td>   -0.008</td> <td>    0.032</td>\n",
       "</tr>\n",
       "</table>"
      ],
      "text/plain": [
       "<class 'statsmodels.iolib.summary.Summary'>\n",
       "\"\"\"\n",
       "                           Logit Regression Results                           \n",
       "==============================================================================\n",
       "Dep. Variable:                Outcome   No. Observations:                  652\n",
       "Model:                          Logit   Df Residuals:                      645\n",
       "Method:                           MLE   Df Model:                            6\n",
       "Date:                Tue, 03 Nov 2020   Pseudo R-squ.:                  0.2833\n",
       "Time:                        11:13:49   Log-Likelihood:                -301.11\n",
       "converged:                       True   LL-Null:                       -420.12\n",
       "Covariance Type:            nonrobust   LLR p-value:                 1.485e-48\n",
       "============================================================================================\n",
       "                               coef    std err          z      P>|z|      [0.025      0.975]\n",
       "--------------------------------------------------------------------------------------------\n",
       "const                       -8.6011      0.775    -11.102      0.000     -10.119      -7.083\n",
       "Pregnancies                  0.1468      0.035      4.177      0.000       0.078       0.216\n",
       "Glucose                      0.0358      0.004      9.176      0.000       0.028       0.043\n",
       "BloodPressure               -0.0111      0.005     -2.069      0.039      -0.022      -0.001\n",
       "BMI                          0.0812      0.016      5.158      0.000       0.050       0.112\n",
       "DiabetesPedigreeFunction     1.1652      0.322      3.617      0.000       0.534       1.797\n",
       "Age                          0.0122      0.010      1.211      0.226      -0.008       0.032\n",
       "============================================================================================\n",
       "\"\"\""
      ]
     },
     "execution_count": 24,
     "metadata": {},
     "output_type": "execute_result"
    }
   ],
   "source": [
    "m2final=sm.Logit(ztrain,sm.add_constant(wtrain)).fit()\n",
    "m2final.summary()"
   ]
  },
  {
   "cell_type": "code",
   "execution_count": 25,
   "metadata": {},
   "outputs": [
    {
     "data": {
      "text/plain": [
       "696    1.0\n",
       "197    0.0\n",
       "434    0.0\n",
       "669    1.0\n",
       "353    0.0\n",
       "      ... \n",
       "657    0.0\n",
       "63     0.0\n",
       "220    1.0\n",
       "234    0.0\n",
       "490    0.0\n",
       "Length: 116, dtype: float64"
      ]
     },
     "execution_count": 25,
     "metadata": {},
     "output_type": "execute_result"
    }
   ],
   "source": [
    "zpred = m2final.predict(sm.add_constant(wtest))\n",
    "zpred.round()"
   ]
  },
  {
   "cell_type": "code",
   "execution_count": 26,
   "metadata": {},
   "outputs": [
    {
     "data": {
      "text/plain": [
       "696    1\n",
       "197    1\n",
       "434    0\n",
       "669    0\n",
       "353    0\n",
       "      ..\n",
       "657    0\n",
       "63     0\n",
       "220    1\n",
       "234    0\n",
       "490    0\n",
       "Name: Outcome, Length: 116, dtype: int64"
      ]
     },
     "execution_count": 26,
     "metadata": {},
     "output_type": "execute_result"
    }
   ],
   "source": [
    "ztest"
   ]
  },
  {
   "cell_type": "markdown",
   "metadata": {},
   "source": [
    "### r^2 value"
   ]
  },
  {
   "cell_type": "code",
   "execution_count": 27,
   "metadata": {},
   "outputs": [
    {
     "data": {
      "text/plain": [
       "0.235600999570723"
      ]
     },
     "execution_count": 27,
     "metadata": {},
     "output_type": "execute_result"
    }
   ],
   "source": [
    "r22 = r2_score(ztest, zpred)\n",
    "r22"
   ]
  },
  {
   "cell_type": "code",
   "execution_count": 28,
   "metadata": {},
   "outputs": [
    {
     "data": {
      "text/plain": [
       "(652, 6)"
      ]
     },
     "execution_count": 28,
     "metadata": {},
     "output_type": "execute_result"
    }
   ],
   "source": [
    "wshape = wtrain.shape\n",
    "wshape"
   ]
  },
  {
   "cell_type": "code",
   "execution_count": 29,
   "metadata": {},
   "outputs": [
    {
     "data": {
      "text/plain": [
       "0.046721857333595684"
      ]
     },
     "execution_count": 29,
     "metadata": {},
     "output_type": "execute_result"
    }
   ],
   "source": [
    "adjustedr22 = 1-(1-r22**2)*(wshape[0]-1)/(wshape[0]-wshape[1]-1)\n",
    "adjustedr22"
   ]
  },
  {
   "cell_type": "markdown",
   "metadata": {},
   "source": [
    "### Confusion matrix"
   ]
  },
  {
   "cell_type": "code",
   "execution_count": 30,
   "metadata": {},
   "outputs": [
    {
     "data": {
      "text/plain": [
       "array([[64,  9],\n",
       "       [22, 21]], dtype=int64)"
      ]
     },
     "execution_count": 30,
     "metadata": {},
     "output_type": "execute_result"
    }
   ],
   "source": [
    "from sklearn.metrics import confusion_matrix\n",
    "confusion_matrix(ztest, zpred.round())"
   ]
  },
  {
   "cell_type": "markdown",
   "metadata": {},
   "source": [
    "### Accuracy"
   ]
  },
  {
   "cell_type": "code",
   "execution_count": 31,
   "metadata": {},
   "outputs": [
    {
     "data": {
      "text/plain": [
       "0.7327586206896551"
      ]
     },
     "execution_count": 31,
     "metadata": {},
     "output_type": "execute_result"
    }
   ],
   "source": [
    "acc = ztest.eq(zpred.round())\n",
    "acc.sum() / len(acc)"
   ]
  },
  {
   "cell_type": "markdown",
   "metadata": {},
   "source": [
    "## Problem 3. <a id=\"p3\"></a>"
   ]
  },
  {
   "cell_type": "code",
   "execution_count": 32,
   "metadata": {},
   "outputs": [],
   "source": [
    "#encode fuel type, engine location, cylinders to ints, "
   ]
  }
 ],
 "metadata": {
  "kernelspec": {
   "display_name": "Python 3",
   "language": "python",
   "name": "python3"
  },
  "language_info": {
   "codemirror_mode": {
    "name": "ipython",
    "version": 3
   },
   "file_extension": ".py",
   "mimetype": "text/x-python",
   "name": "python",
   "nbconvert_exporter": "python",
   "pygments_lexer": "ipython3",
   "version": "3.8.3"
  }
 },
 "nbformat": 4,
 "nbformat_minor": 4
}
